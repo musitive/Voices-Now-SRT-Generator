{
 "cells": [
  {
   "cell_type": "markdown",
   "metadata": {},
   "source": [
    "Code to rename files"
   ]
  },
  {
   "cell_type": "code",
   "execution_count": null,
   "metadata": {},
   "outputs": [],
   "source": [
    "import os\n",
    "import re\n",
    "\n",
    "for source in os.listdir(translation_path):\n",
    "\tcomponents = re.split(\"_\", source)\n",
    "\tdest = components[0]+\"_\"+components[1]+\"_\"+components[4]\n",
    "\tsource_path = translation_path + source\n",
    "\tdest_path = translation_path + dest\n",
    "\tos.rename(source_path, dest_path)"
   ]
  },
  {
   "cell_type": "markdown",
   "metadata": {},
   "source": [
    "Code to make timecoded scripts"
   ]
  },
  {
   "cell_type": "code",
   "execution_count": null,
   "metadata": {},
   "outputs": [],
   "source": [
    "import TimecodeScriptMaker\n",
    "import importlib\n",
    "importlib.reload(TimecodeScriptMaker)\n",
    "\n",
    "for lang in to_time:\n",
    "    full_name = LANGUAGES[lang][0]\n",
    "\n",
    "    for n in to_time[lang]:\n",
    "        season = n[0]\n",
    "\n",
    "        timecode_path = SEASON_PATH.format(full_name=\"~Timecode\", season=season) + TIMECODE_FILE.format(episode=n)\n",
    "\n",
    "        season_path = SEASON_PATH.format(full_name=full_name, season=season)\n",
    "        translation_path = season_path + TRANSLATION_FILE.format(episode=n, lang=lang)\n",
    "        srt_path = season_path + SRT_FILE.format(episode=n, lang=lang)\n",
    "\n",
    "        print(translation_path)\n",
    "\n",
    "        srt_maker = SRTMaker(translation_path, timecode_path, srt_path, lang)\n",
    "        srt_maker.create_captions(split=True)"
   ]
  }
 ],
 "metadata": {
  "language_info": {
   "name": "python"
  }
 },
 "nbformat": 4,
 "nbformat_minor": 2
}
