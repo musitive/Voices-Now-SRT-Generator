{
 "cells": [
  {
   "cell_type": "markdown",
   "metadata": {},
   "source": [
    "Global Constants"
   ]
  },
  {
   "cell_type": "code",
   "execution_count": 1,
   "metadata": {},
   "outputs": [
    {
     "name": "stderr",
     "output_type": "stream",
     "text": [
      "/Users/studiod/Documents/GitHub/Voices-Now-SRT-Generator/.venv/lib/python3.9/site-packages/urllib3/__init__.py:35: NotOpenSSLWarning: urllib3 v2 only supports OpenSSL 1.1.1+, currently the 'ssl' module is compiled with 'LibreSSL 2.8.3'. See: https://github.com/urllib3/urllib3/issues/3020\n",
      "  warnings.warn(\n"
     ]
    }
   ],
   "source": [
    "import codecs, re, sys\n",
    "\n",
    "sys.path.append(\"~/Documents/GitHub/Voices-Now-SRT-Generator/Scripts\")\n",
    "\n",
    "from ProTools.Timecode import Timecode, OffsetType\n",
    "\n",
    "from Captions.CaptionMaker import CaptionMaker\n",
    "from Captions.LanguageDatabase import LanguageDatabase\n",
    "\n",
    "LANGUAGE_MANAGER = LanguageDatabase()\n",
    "\n",
    "PROJECT_PATH = \"/Volumes/VONGeneral/LDS/~Current Projects/MFD Training Videos for Coordinating Councils/Scripts/Translated Scripts/{0}/{1}/MFD_TrainingCouncil{2}.{3}\"\n",
    "\n",
    "def split_languages(timecode_offset: Timecode = None, timecode_offset_type: OffsetType = OffsetType.NONE, languages = []):\n",
    "    for lang_code in languages:\n",
    "        language = LANGUAGE_MANAGER.get_language(lang_code)\n",
    "        name = language.name\n",
    "        max_char_count = LANGUAGE_MANAGER.get_max_line_count(lang_code)\n",
    "        split = LANGUAGE_MANAGER.language_supports_split(lang_code)\n",
    "\n",
    "        combined_srt = PROJECT_PATH.format(name, \"Initial SRTs\", \"Combined\", \"srt\")\n",
    "\n",
    "        with codecs.open(combined_srt, \"w+\", encoding=\"utf-8\") as combined_file:\n",
    "            srt_offset = 0\n",
    "\n",
    "            for i in range(1, 4):\n",
    "                script_name = PROJECT_PATH.format(name, \"Scripts\", \"0\" + str(i), \"docx\")\n",
    "                edl_name = PROJECT_PATH.format(\"~Template\", \"EDLs\", \"0\" + str(i), \"txt\")\n",
    "                srt_name = PROJECT_PATH.format(name, \"Initial SRTs\", \"0\" + str(i), \"srt\")                \n",
    "\n",
    "                print(script_name)\n",
    "\n",
    "                srt_maker = CaptionMaker(script_name, edl_name, \"EDL\", lang_code, srt_name, max_char_count, split)\n",
    "                srt_offset = srt_maker.create_captions(timecode_offset, timecode_offset_type, srt_offset)\n",
    "\n",
    "                with codecs.open(srt_name, \"r\", encoding=\"utf-8\") as srt_file:\n",
    "                    combined_file.write(srt_file.read())\n",
    "\n",
    "def no_split_languages(timecode_offset: tuple = None, languages = []):\n",
    "    for lang_code in languages:\n",
    "        full_lang = LANGUAGE_MANAGER.get_lang(lang_code)\n",
    "\n",
    "        combined_srt = PROJECT_PATH.format(full_lang, \"Initial SRTs\", \"Combined\", \"srt\")\n",
    "\n",
    "        with codecs.open(combined_srt, \"w+\", encoding=\"utf-8\") as combined_file:\n",
    "            srt_offset = 0\n",
    "\n",
    "            timecode_offsets = [None, ('dly', Timecode.from_total_frames(\"00:04:33;24\")), ('dly', Timecode.from_total_frames(\"00:08:16;11\"))]\n",
    "\n",
    "            for i in range(1, 4):\n",
    "                script_name = PROJECT_PATH.format(full_lang, \"Scripts\", \"0\" + str(i), \"docx\")\n",
    "                # edl_name = project_path.format(\"~Template\", \"EDLs\", \"0\" + str(i), \"txt\")\n",
    "                srt_name = PROJECT_PATH.format(full_lang, \"Initial SRTs\", \"0\" + str(i), \"srt\")\n",
    "\n",
    "                print(script_name)\n",
    "\n",
    "                srt_maker = CaptionMaker(script_name, None, \"MRK\", lang_code, srt_name, 44, False)\n",
    "                srt_offset = srt_maker.create_captions(timecode_offsets[i-1], srt_offset)\n",
    "\n",
    "                with codecs.open(srt_name, \"r\", encoding=\"utf-8\") as srt_file:\n",
    "                    combined_file.write(srt_file.read())\n",
    "\n",
    "def offset_single_srt(srt_name: str, offset: Timecode):\n",
    "    pattern = r\"\\d{2}:\\d{2}:\\d{2},\\d{3}\"\n",
    "\n",
    "    with codecs.open(srt_name, \"r\", encoding=\"utf-8\") as srt_file:\n",
    "        srt_data = srt_file.read()\n",
    "\n",
    "    offset_srt_data = re.sub(pattern, lambda match: (Timecode.from_total_frames(match.group()) - offset).get_timecode_in_ms(), srt_data)\n",
    "\n",
    "    with codecs.open(srt_name, \"w\", encoding=\"utf-8\") as srt_file:\n",
    "        srt_file.write(offset_srt_data)\n",
    "\n",
    "def offset_srts(offset: Timecode, languages: list = []):\n",
    "    for lang_code in languages:\n",
    "        full_lang = LANGUAGE_MANAGER.get_lang(lang_code)\n",
    "\n",
    "        for i in range(1, 4):\n",
    "            srt_name = PROJECT_PATH.format(full_lang, \"Initial SRTs\", \"0\" + str(i), \"srt\")\n",
    "            offset_single_srt(srt_name, offset)\n",
    "        \n",
    "        offset_single_srt(PROJECT_PATH.format(full_lang, \"Initial SRTs\", \"Combined\", \"srt\"), offset)\n",
    "            \n",
    "def specific_language(lang_code: str, timecode_offset: tuple = None):\n",
    "    full_lang = LANGUAGE_MANAGER.get_lang(lang_code)\n",
    "\n",
    "    combined_srt = PROJECT_PATH.format(full_lang, \"Initial SRTs\", \"Combined\", \"srt\")\n",
    "\n",
    "    with codecs.open(combined_srt, \"w+\", encoding=\"utf-8\") as combined_file:\n",
    "        srt_offset = 0\n",
    "\n",
    "        for i in range(1, 4):\n",
    "            script_name = PROJECT_PATH.format(full_lang, \"Scripts\", \"0\" + str(i), \"docx\")\n",
    "            edl_name = PROJECT_PATH.format(full_lang, \"EDLs\", \"0\" + str(i), \"txt\")\n",
    "            srt_name = PROJECT_PATH.format(full_lang, \"Initial SRTs\", \"0\" + str(i), \"srt\")\n",
    "            split = LANGUAGE_MANAGER.language_supports_split(lang_code)\n",
    "\n",
    "            print(script_name)\n",
    "\n",
    "            srt_maker = CaptionMaker(script_name, edl_name, \"EDL\", lang_code, srt_name, 44, split)\n",
    "            srt_offset = srt_maker.create_captions(timecode_offset, srt_offset)\n",
    "\n",
    "            with codecs.open(srt_name, \"r\", encoding=\"utf-8\") as srt_file:\n",
    "                combined_file.write(srt_file.read())"
   ]
  },
  {
   "cell_type": "code",
   "execution_count": 2,
   "metadata": {},
   "outputs": [
    {
     "ename": "AttributeError",
     "evalue": "'LanguageDatabase' object has no attribute 'get_lang'",
     "output_type": "error",
     "traceback": [
      "\u001b[0;31m---------------------------------------------------------------------------\u001b[0m",
      "\u001b[0;31mAttributeError\u001b[0m                            Traceback (most recent call last)",
      "Cell \u001b[0;32mIn[2], line 11\u001b[0m\n\u001b[1;32m      4\u001b[0m weird_placement \u001b[38;5;241m=\u001b[39m Timecode\u001b[38;5;241m.\u001b[39mfrom_string(\u001b[38;5;124m\"\u001b[39m\u001b[38;5;124m00:00:14;25\u001b[39m\u001b[38;5;124m\"\u001b[39m)\n\u001b[1;32m      6\u001b[0m \u001b[38;5;66;03m# offsets = [Timecode.from_frames(\"00:00:00;00\"),\u001b[39;00m\n\u001b[1;32m      7\u001b[0m \u001b[38;5;66;03m#            Timecode.from_frames(\"00:04:33;24\"),\u001b[39;00m\n\u001b[1;32m      8\u001b[0m \u001b[38;5;66;03m#            Timecode.from_frames(\"00:08:16;11\")]\u001b[39;00m\n\u001b[1;32m      9\u001b[0m \n\u001b[1;32m     10\u001b[0m \u001b[38;5;66;03m# specific_language(\"RUS\", (\"adv\", weird_placement))\u001b[39;00m\n\u001b[0;32m---> 11\u001b[0m \u001b[43msplit_languages\u001b[49m\u001b[43m(\u001b[49m\u001b[43mweird_placement\u001b[49m\u001b[43m,\u001b[49m\u001b[43m \u001b[49m\u001b[43mOffsetType\u001b[49m\u001b[38;5;241;43m.\u001b[39;49m\u001b[43mADVANCE\u001b[49m\u001b[43m,\u001b[49m\u001b[43m \u001b[49m\u001b[43mlanguages\u001b[49m\u001b[43m)\u001b[49m\n",
      "Cell \u001b[0;32mIn[1], line 16\u001b[0m, in \u001b[0;36msplit_languages\u001b[0;34m(timecode_offset, timecode_offset_type, languages)\u001b[0m\n\u001b[1;32m     14\u001b[0m \u001b[38;5;28;01mdef\u001b[39;00m \u001b[38;5;21msplit_languages\u001b[39m(timecode_offset: Timecode \u001b[38;5;241m=\u001b[39m \u001b[38;5;28;01mNone\u001b[39;00m, timecode_offset_type: OffsetType \u001b[38;5;241m=\u001b[39m OffsetType\u001b[38;5;241m.\u001b[39mNONE, languages \u001b[38;5;241m=\u001b[39m []):\n\u001b[1;32m     15\u001b[0m     \u001b[38;5;28;01mfor\u001b[39;00m lang_code \u001b[38;5;129;01min\u001b[39;00m languages:\n\u001b[0;32m---> 16\u001b[0m         full_lang \u001b[38;5;241m=\u001b[39m \u001b[43mLANGUAGE_MANAGER\u001b[49m\u001b[38;5;241;43m.\u001b[39;49m\u001b[43mget_lang\u001b[49m(lang_code)\n\u001b[1;32m     17\u001b[0m         max_line_len \u001b[38;5;241m=\u001b[39m LANGUAGE_MANAGER\u001b[38;5;241m.\u001b[39mget_max_line_count(lang_code)\n\u001b[1;32m     18\u001b[0m         split \u001b[38;5;241m=\u001b[39m LANGUAGE_MANAGER\u001b[38;5;241m.\u001b[39mlanguage_supports_split(lang_code)\n",
      "\u001b[0;31mAttributeError\u001b[0m: 'LanguageDatabase' object has no attribute 'get_lang'"
     ]
    }
   ],
   "source": [
    "\n",
    "\n",
    "languages = [\"FRA\"] # [\"CEB\", \"FRA\", \"DEU\", \"ITA\", \"KHM\", \"KOR\", \"MLG\", \"MAH\", \"POR\", \"RUS\", \"SMO\", \"SPA\", \"TGL\", \"THA\", \"TON\", \"UKR\", \"VIE\"]\n",
    "no_split = [\"JPN\", \"CMN\"]\n",
    "\n",
    "weird_placement = Timecode.from_string(\"00:00:14;25\")\n",
    "\n",
    "# offsets = [Timecode.from_frames(\"00:00:00;00\"),\n",
    "#            Timecode.from_frames(\"00:04:33;24\"),\n",
    "#            Timecode.from_frames(\"00:08:16;11\")]\n",
    "\n",
    "# specific_language(\"RUS\", (\"adv\", weird_placement))\n",
    "split_languages(weird_placement, OffsetType.ADVANCE, languages)\n",
    "\n"
   ]
  }
 ],
 "metadata": {
  "kernelspec": {
   "display_name": "Python 3",
   "language": "python",
   "name": "python3"
  },
  "language_info": {
   "codemirror_mode": {
    "name": "ipython",
    "version": 3
   },
   "file_extension": ".py",
   "mimetype": "text/x-python",
   "name": "python",
   "nbconvert_exporter": "python",
   "pygments_lexer": "ipython3",
   "version": "3.9.6"
  }
 },
 "nbformat": 4,
 "nbformat_minor": 2
}
