{
 "cells": [
  {
   "cell_type": "markdown",
   "metadata": {},
   "source": [
    "Global Constants"
   ]
  },
  {
   "cell_type": "code",
   "execution_count": 1,
   "metadata": {},
   "outputs": [
    {
     "name": "stderr",
     "output_type": "stream",
     "text": [
      "/Users/studiod/Documents/GitHub/Voices-Now-SRT-Generator/.venv/lib/python3.9/site-packages/urllib3/__init__.py:35: NotOpenSSLWarning: urllib3 v2 only supports OpenSSL 1.1.1+, currently the 'ssl' module is compiled with 'LibreSSL 2.8.3'. See: https://github.com/urllib3/urllib3/issues/3020\n",
      "  warnings.warn(\n"
     ]
    },
    {
     "ename": "ModuleNotFoundError",
     "evalue": "No module named 'Projects.Project'",
     "output_type": "error",
     "traceback": [
      "\u001b[0;31m---------------------------------------------------------------------------\u001b[0m",
      "\u001b[0;31mModuleNotFoundError\u001b[0m                       Traceback (most recent call last)",
      "Cell \u001b[0;32mIn[1], line 10\u001b[0m\n\u001b[1;32m      7\u001b[0m \u001b[38;5;28;01mfrom\u001b[39;00m \u001b[38;5;21;01mCaptions\u001b[39;00m\u001b[38;5;21;01m.\u001b[39;00m\u001b[38;5;21;01mCaptionsWriter\u001b[39;00m \u001b[38;5;28;01mimport\u001b[39;00m CaptionMaker\n\u001b[1;32m      8\u001b[0m \u001b[38;5;28;01mfrom\u001b[39;00m \u001b[38;5;21;01mLanguages\u001b[39;00m\u001b[38;5;21;01m.\u001b[39;00m\u001b[38;5;21;01mLanguageDatabase\u001b[39;00m \u001b[38;5;28;01mimport\u001b[39;00m LanguageDatabase\n\u001b[0;32m---> 10\u001b[0m \u001b[38;5;28;01mfrom\u001b[39;00m \u001b[38;5;21;01mProjects\u001b[39;00m\u001b[38;5;21;01m.\u001b[39;00m\u001b[38;5;21;01mProject\u001b[39;00m \u001b[38;5;28;01mimport\u001b[39;00m Project\n\u001b[1;32m     12\u001b[0m LANGUAGE_MANAGER \u001b[38;5;241m=\u001b[39m LanguageDatabase()\n\u001b[1;32m     14\u001b[0m PROJECT_PATH \u001b[38;5;241m=\u001b[39m \u001b[38;5;124m\"\u001b[39m\u001b[38;5;124m/Volumes/VONGeneral/LDS/~Current Projects/MFD Training Videos for Coordinating Councils/Scripts/Translated Scripts/\u001b[39m\u001b[38;5;132;01m{0}\u001b[39;00m\u001b[38;5;124m/\u001b[39m\u001b[38;5;132;01m{1}\u001b[39;00m\u001b[38;5;124m/MFD_TrainingCouncil\u001b[39m\u001b[38;5;132;01m{2}\u001b[39;00m\u001b[38;5;124m.\u001b[39m\u001b[38;5;132;01m{3}\u001b[39;00m\u001b[38;5;124m\"\u001b[39m\n",
      "\u001b[0;31mModuleNotFoundError\u001b[0m: No module named 'Projects.Project'"
     ]
    }
   ],
   "source": [
    "import codecs, re, sys\n",
    "\n",
    "sys.path.append(\"~/Documents/GitHub/Voices-Now-SRT-Generator/Scripts\")\n",
    "\n",
    "from Timecodes.Timecode import Timecode, OffsetType\n",
    "\n",
    "from Captions.CaptionsWriter import CaptionMaker\n",
    "from Languages.LanguageDatabase import LanguageDatabase\n",
    "from Languages.Language import Language\n",
    "\n",
    "from Projects.SRTProject import SRTProject, SRT_FOLDER_NAME, SRT_EXTENSION\n",
    "from Projects.SRTOffset import SRTOffset\n",
    "\n",
    "LANGUAGE_MANAGER = LanguageDatabase()\n",
    "\n",
    "PROJECT_PATH = \"MFD Training Videos for Coordinating Councils/Scripts/Translated Scripts\"\n",
    "\n",
    "TIMECODE_OFFSET = Timecode.from_string(\"00:00:14;25\")\n",
    "TIMECODE_OFFSET_TYPE = OffsetType.DELAY\n",
    "\n",
    "\n",
    "def split_languages(languages: list[Language] = []):\n",
    "    for language in languages:\n",
    "        create_combined_srt(language)\n",
    "\n",
    "\n",
    "def create_combined_srt(language: Language):\n",
    "    project = SRTProject()\n",
    "\n",
    "    project.set_language(language)\n",
    "    project.set_project_path(PROJECT_PATH)\n",
    "\n",
    "    combined_srt = project.format_file_path(language.name, SRT_FOLDER_NAME, \"MFD_TrainingCouncilCombined\", SRT_EXTENSION)\n",
    "\n",
    "    with codecs.open(combined_srt, \"w+\", encoding=\"utf-8\") as combined_file:\n",
    "        id_offset = 0\n",
    "\n",
    "        for i in range(1, 4):\n",
    "            id_offset = create_single_srt(f\"MFD_Training0{i}\", id_offset)\n",
    "            srt_name = project.format_file_path(language.name, SRT_FOLDER_NAME, f\"MFD_Training0{i}\", SRT_EXTENSION)\n",
    "\n",
    "            with codecs.open(srt_name, \"r\", encoding=\"utf-8\") as srt_file:\n",
    "                combined_file.write(srt_file.read())\n",
    "\n",
    "\n",
    "def create_single_srt(filename: str, id_offset: int):\n",
    "    print(filename)\n",
    "\n",
    "    project = SRTProject()\n",
    "    project.open_script_from_filename(filename)\n",
    "    project.open_session_from_filename(filename)\n",
    "    \n",
    "    offset = SRTOffset(TIMECODE_OFFSET, TIMECODE_OFFSET_TYPE, id_offset)\n",
    "    project.set_srt_offset(offset)\n",
    "\n",
    "    srt_maker = CaptionMaker()\n",
    "    id_offset = srt_maker.create_captions()\n",
    "\n",
    "    return id_offset"
   ]
  },
  {
   "cell_type": "code",
   "execution_count": 2,
   "metadata": {},
   "outputs": [
    {
     "name": "stderr",
     "output_type": "stream",
     "text": [
      "DEBUG:root:EDL: 1\t\t01:00:25;18\n",
      "DEBUG:root:EDL: 2\t\t01:00:31;21\n",
      "DEBUG:root:EDL: 3\t\t01:00:36;10\n",
      "DEBUG:root:EDL: 4\t\t01:00:41;21\n",
      "DEBUG:root:EDL: 5\t\t01:00:48;25\n",
      "DEBUG:root:EDL: 6\t\t01:00:54;12\n",
      "DEBUG:root:EDL: 7\t\t01:01:02;19\n",
      "DEBUG:root:EDL: 8\t\t01:01:08;25\n",
      "DEBUG:root:EDL: 9\t\t01:01:13;01\n",
      "DEBUG:root:EDL: 10\t\t01:01:20;28\n",
      "DEBUG:root:EDL: 11\t\t01:01:27;24\n",
      "DEBUG:root:EDL: 12\t\t01:01:38;07\n",
      "DEBUG:root:EDL: 13\t\t01:01:45;13\n",
      "DEBUG:root:EDL: 14\t\t01:02:01;08\n",
      "DEBUG:root:EDL: 15\t\t01:02:11;17\n",
      "DEBUG:root:EDL: 16\t\t01:02:19;17\n",
      "DEBUG:root:EDL: 17\t\t01:02:25;00\n",
      "DEBUG:root:EDL: 18\t\t01:02:34;03\n",
      "DEBUG:root:EDL: 19\t\t01:02:40;09\n",
      "DEBUG:root:EDL: 20\t\t01:02:45;21\n",
      "DEBUG:root:EDL: 21\t\t01:02:49;19\n",
      "DEBUG:root:EDL: 22\t\t01:03:01;20\n",
      "DEBUG:root:EDL: 23\t\t01:03:14;04\n",
      "DEBUG:root:EDL: 24\t\t01:03:20;00\n",
      "DEBUG:root:EDL: 25\t\t01:03:28;17\n",
      "DEBUG:root:EDL: 26\t\t01:03:36;28\n",
      "DEBUG:root:EDL: 27\t\t01:03:44;08\n",
      "DEBUG:root:EDL: 28\t\t01:03:55;12\n",
      "DEBUG:root:EDL: 29\t\t01:04:04;15\n",
      "DEBUG:root:EDL: 30\t\t01:04:11;16\n",
      "DEBUG:root:EDL: 31\t\t01:04:27;23\n"
     ]
    },
    {
     "name": "stdout",
     "output_type": "stream",
     "text": [
      "/Volumes/VONGeneral/LDS/~Current Projects/MFD Training Videos for Coordinating Councils/Scripts/Translated Scripts/Indonesian/Scripts/MFD_TrainingCouncil01.docx\n"
     ]
    },
    {
     "name": "stderr",
     "output_type": "stream",
     "text": [
      "DEBUG:root:EDL: 1\t\t01:04:43;22\n",
      "DEBUG:root:EDL: 2\t\t01:04:49;24\n",
      "DEBUG:root:EDL: 3\t\t01:04:56;00\n",
      "DEBUG:root:EDL: 4\t\t01:05:02;11\n",
      "DEBUG:root:EDL: 5\t\t01:05:15;07\n",
      "DEBUG:root:EDL: 6\t\t01:05:25;16\n",
      "DEBUG:root:EDL: 7\t\t01:05:31;18\n",
      "DEBUG:root:EDL: 8\t\t01:05:34;24\n",
      "DEBUG:root:EDL: 9\t\t01:05:44;17\n",
      "DEBUG:root:EDL: 10\t\t01:05:57;00\n",
      "DEBUG:root:EDL: 11\t\t01:06:04;29\n",
      "DEBUG:root:EDL: 12\t\t01:06:13;29\n",
      "DEBUG:root:EDL: 13\t\t01:06:25;23\n",
      "DEBUG:root:EDL: 14\t\t01:06:32;02\n",
      "DEBUG:root:EDL: 15\t\t01:06:39;12\n",
      "DEBUG:root:EDL: 16\t\t01:06:47;06\n",
      "DEBUG:root:EDL: 17\t\t01:06:54;27\n",
      "DEBUG:root:EDL: 18\t\t01:06:59;08\n",
      "DEBUG:root:EDL: 19\t\t01:07:08;15\n",
      "DEBUG:root:EDL: 20\t\t01:07:14;18\n",
      "DEBUG:root:EDL: 21\t\t01:07:18;08\n",
      "DEBUG:root:EDL: 22\t\t01:07:24;19\n",
      "DEBUG:root:EDL: 23\t\t01:07:28;21\n",
      "DEBUG:root:EDL: 24\t\t01:07:34;27\n",
      "DEBUG:root:EDL: 25\t\t01:07:44;22\n",
      "DEBUG:root:EDL: 26\t\t01:07:50;25\n",
      "DEBUG:root:EDL: 27\t\t01:07:55;09\n",
      "DEBUG:root:EDL: 28\t\t01:08:05;04\n"
     ]
    },
    {
     "name": "stdout",
     "output_type": "stream",
     "text": [
      "/Volumes/VONGeneral/LDS/~Current Projects/MFD Training Videos for Coordinating Councils/Scripts/Translated Scripts/Indonesian/Scripts/MFD_TrainingCouncil02.docx\n"
     ]
    },
    {
     "name": "stderr",
     "output_type": "stream",
     "text": [
      "DEBUG:root:EDL: 1\t\t01:08:25;10\n",
      "DEBUG:root:EDL: 2\t\t01:08:29;13\n",
      "DEBUG:root:EDL: 3\t\t01:08:37;13\n",
      "DEBUG:root:EDL: 4\t\t01:08:41;16\n",
      "DEBUG:root:EDL: 5\t\t01:08:50;07\n",
      "DEBUG:root:EDL: 6\t\t01:09:06;19\n",
      "DEBUG:root:EDL: 7\t\t01:09:17;02\n",
      "DEBUG:root:EDL: 8\t\t01:09:23;09\n",
      "DEBUG:root:EDL: 9\t\t01:09:30;26\n",
      "DEBUG:root:EDL: 10\t\t01:09:45;06\n",
      "DEBUG:root:EDL: 11\t\t01:09:51;26\n",
      "DEBUG:root:EDL: 12\t\t01:09:58;20\n",
      "DEBUG:root:EDL: 13\t\t01:10:06;04\n",
      "DEBUG:root:EDL: 14\t\t01:10:13;21\n",
      "DEBUG:root:EDL: 15\t\t01:10:20;16\n",
      "DEBUG:root:EDL: 16\t\t01:10:27;24\n",
      "DEBUG:root:EDL: 17\t\t01:10:35;15\n",
      "DEBUG:root:EDL: 18\t\t01:10:39;29\n",
      "DEBUG:root:EDL: 19\t\t01:10:47;19\n",
      "DEBUG:root:EDL: 20\t\t01:10:53;23\n",
      "DEBUG:root:EDL: 21\t\t01:11:00;22\n",
      "DEBUG:root:EDL: 22\t\t01:11:06;04\n",
      "DEBUG:root:EDL: 23\t\t01:11:12;19\n",
      "DEBUG:root:EDL: 24\t\t01:11:19;28\n",
      "DEBUG:root:EDL: 25\t\t01:11:28;12\n",
      "DEBUG:root:EDL: 26\t\t01:11:32;24\n",
      "DEBUG:root:EDL: 27\t\t01:11:39;12\n",
      "DEBUG:root:EDL: 28\t\t01:11:45;29\n",
      "DEBUG:root:EDL: 29\t\t01:11:51;21\n"
     ]
    },
    {
     "name": "stdout",
     "output_type": "stream",
     "text": [
      "/Volumes/VONGeneral/LDS/~Current Projects/MFD Training Videos for Coordinating Councils/Scripts/Translated Scripts/Indonesian/Scripts/MFD_TrainingCouncil03.docx\n"
     ]
    }
   ],
   "source": [
    "codes = [\"FRA\"]\n",
    "\n",
    "languages = [LANGUAGE_MANAGER.get_language(language) for language in codes]\n",
    "\n",
    "split_languages(languages)"
   ]
  }
 ],
 "metadata": {
  "kernelspec": {
   "display_name": "Python 3",
   "language": "python",
   "name": "python3"
  },
  "language_info": {
   "codemirror_mode": {
    "name": "ipython",
    "version": 3
   },
   "file_extension": ".py",
   "mimetype": "text/x-python",
   "name": "python",
   "nbconvert_exporter": "python",
   "pygments_lexer": "ipython3",
   "version": "3.9.6"
  }
 },
 "nbformat": 4,
 "nbformat_minor": 2
}
