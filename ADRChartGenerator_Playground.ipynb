{
 "cells": [
  {
   "cell_type": "code",
   "execution_count": 1,
   "metadata": {},
   "outputs": [],
   "source": [
    "import sys\n",
    "sys.path.append(\"~/Documents/GitHub/Voices-Now-SRT-Generator/Scripts\")\n",
    "\n",
    "from Scripts.Script import LdsScript\n",
    "from ADRChartGenerator.ADRChartGenerator import ADRChartGenerator\n",
    "\n",
    "project_path = \"/Volumes/VONGeneral/LDS/Archived Projects/World Report April 2024/\"\n",
    "name = \"PD80033725_World Report April 2024SCR_ENG\"\n",
    "\n",
    "\n",
    "SCRIPT_PATH = f\"{project_path}{name}.docx\"\n",
    "CSV_PATH = f\"{project_path}{name}.csv\"\n",
    "\n",
    "script = LdsScript(SCRIPT_PATH)\n",
    "iterator = ADRChartGenerator(script)\n",
    "iterator.iterate()\n",
    "iterator.generate_csv(CSV_PATH)"
   ]
  }
 ],
 "metadata": {
  "kernelspec": {
   "display_name": "Python 3",
   "language": "python",
   "name": "python3"
  },
  "language_info": {
   "codemirror_mode": {
    "name": "ipython",
    "version": 3
   },
   "file_extension": ".py",
   "mimetype": "text/x-python",
   "name": "python",
   "nbconvert_exporter": "python",
   "pygments_lexer": "ipython3",
   "version": "3.9.6"
  }
 },
 "nbformat": 4,
 "nbformat_minor": 2
}
