{
 "cells": [
  {
   "cell_type": "code",
   "execution_count": 18,
   "metadata": {},
   "outputs": [],
   "source": [
    "SCRIPT_PATH = \"Friend to Friend Episode 6_English_Timecode.docx\"\n",
    "CSV_PATH = \"Friend to Friend Episode 6_ADR.csv\""
   ]
  },
  {
   "cell_type": "code",
   "execution_count": 19,
   "metadata": {},
   "outputs": [],
   "source": [
    "from LdsScript import LdsScript\n",
    "from ADRChartGenerator import ADRChartGenerator\n",
    "\n",
    "script = LdsScript(SCRIPT_PATH)\n",
    "iterator = ADRChartGenerator(script)\n",
    "iterator.iterate()\n",
    "iterator.generate_csv(CSV_PATH)"
   ]
  }
 ],
 "metadata": {
  "kernelspec": {
   "display_name": "Python 3",
   "language": "python",
   "name": "python3"
  },
  "language_info": {
   "codemirror_mode": {
    "name": "ipython",
    "version": 3
   },
   "file_extension": ".py",
   "mimetype": "text/x-python",
   "name": "python",
   "nbconvert_exporter": "python",
   "pygments_lexer": "ipython3",
   "version": "3.12.0"
  }
 },
 "nbformat": 4,
 "nbformat_minor": 2
}
