{
 "cells": [
  {
   "cell_type": "markdown",
   "metadata": {},
   "source": [
    "Global Variables"
   ]
  },
  {
   "cell_type": "code",
   "execution_count": 1,
   "metadata": {},
   "outputs": [],
   "source": [
    "SEASON = 2\n",
    "LANG = \"TAH\"\n",
    "FULL = \"Tahitian\"\n",
    "GROUP = 1\n",
    "\n",
    "PATH = \"P:/LDS/~BMVL Groups 1 & 2/\"\n",
    "\n",
    "time_path = \"z_SRT/~Timecode/Season {season}/BMVL_{season}0{episode}_Timecode.txt\"\n",
    "translation_path = \"~Translations/Group\" + str(GROUP) + \"/\" + LANG + \"/Season \" + str(SEASON) +\"/\"\n",
    "translation_file = \"BMVL_{season}0{episode}_{lang}.docx\"\n",
    "translation_timecode_file = \"BMVL_{season}0{episode}_{lang}_timecode.docx\"\n",
    "srt_path = PATH + \"z_SRT/\" + FULL + \"/Initial SRT Files/Season \" + str(SEASON) + \"/\"\n",
    "srt_filename = \"BMVL_{season}0{episode}_{lang}.txt\"\n",
    "\n",
    "new_script_path = PATH + translation_path + \"Timecode Scripts/\""
   ]
  },
  {
   "cell_type": "markdown",
   "metadata": {},
   "source": [
    "Code to batch produce SRT files"
   ]
  },
  {
   "cell_type": "code",
   "execution_count": 6,
   "metadata": {},
   "outputs": [
    {
     "name": "stdout",
     "output_type": "stream",
     "text": [
      "P:/LDS/~BMVL Groups 1 & 2/~Translations/Group1/TAH/Season 1/SRT Fixes/BMVL_105_TAH.docx\n",
      "P:/LDS/~BMVL Groups 1 & 2/~Translations/Group1/TAH/Season 1/SRT Fixes/BMVL_106_TAH.docx\n",
      "P:/LDS/~BMVL Groups 1 & 2/~Translations/Group1/TAH/Season 1/SRT Fixes/BMVL_107_TAH.docx\n",
      "P:/LDS/~BMVL Groups 1 & 2/~Translations/Group1/TAH/Season 1/SRT Fixes/BMVL_108_TAH.docx\n"
     ]
    }
   ],
   "source": [
    "import scriptExtract\n",
    "\n",
    "translation_path = \"~Translations/Group\" + str(GROUP) + \"/\" + LANG + \"/Season \" + str(SEASON) +\"/SRT Fixes/\"\n",
    "\n",
    "for n in range(5, 9):\n",
    "    time = PATH + time_path.format(season = SEASON, episode = n)\n",
    "    translation = PATH + translation_path + translation_file.format(season = SEASON, episode = n, lang = LANG)\n",
    "    srt = srt_path + srt_filename.format(season = SEASON, episode = n, lang = LANG)\n",
    "    print(translation)\n",
    "    scriptExtract.createSrtFile(translation, time, srt)"
   ]
  },
  {
   "cell_type": "markdown",
   "metadata": {},
   "source": [
    "Code to rename files"
   ]
  },
  {
   "cell_type": "code",
   "execution_count": 2,
   "metadata": {},
   "outputs": [],
   "source": [
    "import os\n",
    "import re\n",
    "\n",
    "for source in os.listdir(PATH + translation_path):\n",
    "\tcomponents = re.split(\"_\", source)\n",
    "\tdest = components[0]+\"_\"+components[1]+\"_\"+components[4]\n",
    "\tsource_path = PATH + translation_path + source\n",
    "\tdest_path = PATH + translation_path + dest\n",
    "\tos.rename(source_path, dest_path)"
   ]
  },
  {
   "cell_type": "markdown",
   "metadata": {},
   "source": [
    "Code to Generate a season of timecoded scripts"
   ]
  },
  {
   "cell_type": "code",
   "execution_count": 3,
   "metadata": {},
   "outputs": [],
   "source": [
    "import timecode\n",
    "\n",
    "for n in range(1, 9):\n",
    "    time = PATH + time_path.format(season = SEASON, episode = n)\n",
    "    translation = PATH + translation_path + translation_file.format(season = SEASON, episode = n, lang = LANG)\n",
    "    timescode_script = new_script_path + translation_timecode_file.format(season = SEASON, episode = n, lang = LANG)\n",
    "    \n",
    "    timecode.enhance_script(translation, time, timescode_script)"
   ]
  },
  {
   "cell_type": "markdown",
   "metadata": {},
   "source": [
    "Code for Jean Rene fixes"
   ]
  },
  {
   "cell_type": "code",
   "execution_count": 9,
   "metadata": {},
   "outputs": [
    {
     "name": "stdout",
     "output_type": "stream",
     "text": [
      "1\n",
      "2\n",
      "3\n",
      "4\n",
      "5\n",
      "6\n",
      "7\n",
      "8\n"
     ]
    }
   ],
   "source": [
    "import timecode\n",
    "import importlib\n",
    "importlib.reload(timecode)\n",
    "\n",
    "new_script_path = PATH + translation_path + \"SRT Fixes/Timecode Scripts/\"\n",
    "\n",
    "for n in range(1, 9):\n",
    "    time = PATH + time_path.format(season = SEASON, episode = n)\n",
    "    translation = PATH + translation_path + \"SRT Fixes/\" + translation_file.format(season = SEASON, episode = n, lang = LANG)\n",
    "    timescode_script = new_script_path + translation_timecode_file.format(season = SEASON, episode = n, lang = LANG)\n",
    "    \n",
    "    print(n)\n",
    "    timecode.enhance_script(translation, time, timescode_script)\n",
    "\n",
    "time = PATH + time_path.format(season = 3, episode = 8)\n",
    "translation = PATH + translation_path + \"SRT Fixes/\" + translation_file.format(season = 3, episode = 8, lang = LANG)\n",
    "timescode_script = new_script_path + translation_timecode_file.format(season = 3, episode = 8, lang = LANG)\n",
    "    \n",
    "timecode.enhance_script(translation, time, timescode_script)"
   ]
  }
 ],
 "metadata": {
  "kernelspec": {
   "display_name": "Python 3",
   "language": "python",
   "name": "python3"
  },
  "language_info": {
   "codemirror_mode": {
    "name": "ipython",
    "version": 3
   },
   "file_extension": ".py",
   "mimetype": "text/x-python",
   "name": "python",
   "nbconvert_exporter": "python",
   "pygments_lexer": "ipython3",
   "version": "3.12.0"
  }
 },
 "nbformat": 4,
 "nbformat_minor": 2
}
