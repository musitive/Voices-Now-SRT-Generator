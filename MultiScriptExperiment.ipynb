{
 "cells": [
  {
   "cell_type": "markdown",
   "metadata": {},
   "source": [
    "Global Constants"
   ]
  },
  {
   "cell_type": "code",
   "execution_count": 46,
   "metadata": {},
   "outputs": [],
   "source": [
    "LANGUAGES = {\n",
    "    \"ARA\": [\"Arabic\", 2],\n",
    "    \"FIJ\": [\"Fijian\", 2],\n",
    "    \"IND\": [\"Indonesian\", 1],\n",
    "    \"KEK\": [\"Kekchi\", 2],\n",
    "    \"KHM\": [\"Khmer\", 1],\n",
    "    \"MAH\": [\"Marshallese\", 2],\n",
    "    \"MON\": [\"Mongolian\", 1],\n",
    "    \"TAH\": [\"Tahitian\", 1],\n",
    "    \"THA\": [\"Thai\", 1],\n",
    "    \"URD\": [\"Urdu\", 2],\n",
    "    \"VIE\": [\"Vietnamese\", 2]\n",
    "}\n",
    "\n",
    "SEASONS = {\n",
    "    1: 8,\n",
    "    2: 8,\n",
    "    3: 9,\n",
    "    4: 9,\n",
    "    5: 11\n",
    "}\n",
    "\n",
    "PATH = \"/Volumes/VONGeneral/LDS/~BMVL Groups 1 & 2/\"\n",
    "\n",
    "SEASON_PATH = PATH + \"~Translations/{full_name}/Season {season}/\"\n",
    "\n",
    "TIMECODE_FILE = \"BMVL_{episode}_Timecode.txt\"\n",
    "SRT_FILE = \"Initial SRT Files/BMVL_{episode}_{lang}.txt\"\n",
    "TRANSLATION_FILE = \"Scripts/BMVL_{episode}_{lang}.docx\""
   ]
  },
  {
   "cell_type": "markdown",
   "metadata": {},
   "source": [
    "Global Variables"
   ]
  },
  {
   "cell_type": "code",
   "execution_count": 51,
   "metadata": {},
   "outputs": [],
   "source": [
    "to_time = {\n",
    "    \"IND\": [\"508\", \"301\"],\n",
    "    \"KHM\": [],\n",
    "    \"TAH\": [],\n",
    "    \"THA\": [\"508\", \"301\"]\n",
    "}"
   ]
  },
  {
   "cell_type": "markdown",
   "metadata": {},
   "source": [
    "Code to batch produce SRT files"
   ]
  },
  {
   "cell_type": "code",
   "execution_count": 52,
   "metadata": {},
   "outputs": [
    {
     "name": "stdout",
     "output_type": "stream",
     "text": [
      "/Volumes/VONGeneral/LDS/~BMVL Groups 1 & 2/~Translations/Indonesian/Season 5/Scripts/BMVL_508_IND.docx\n",
      "/Volumes/VONGeneral/LDS/~BMVL Groups 1 & 2/~Translations/Indonesian/Season 3/Scripts/BMVL_301_IND.docx\n",
      "/Volumes/VONGeneral/LDS/~BMVL Groups 1 & 2/~Translations/Thai/Season 5/Scripts/BMVL_508_THA.docx\n",
      "/Volumes/VONGeneral/LDS/~BMVL Groups 1 & 2/~Translations/Thai/Season 3/Scripts/BMVL_301_THA.docx\n"
     ]
    }
   ],
   "source": [
    "import scriptExtract\n",
    "\n",
    "for lang in to_time:\n",
    "    full_name = LANGUAGES[lang][0]\n",
    "\n",
    "    for n in to_time[lang]:\n",
    "        season = n[0]\n",
    "\n",
    "        timecode_path = SEASON_PATH.format(full_name=\"~Timecode\", season=season) + TIMECODE_FILE.format(episode=n)\n",
    "\n",
    "        season_path = SEASON_PATH.format(full_name=full_name, season=season)\n",
    "        translation_path = season_path + TRANSLATION_FILE.format(episode=n, lang=lang)\n",
    "        srt_path = season_path + SRT_FILE.format(episode=n, lang=lang)\n",
    "\n",
    "        print(translation_path)\n",
    "\n",
    "        scriptExtract.create_srt_file(translation_path, timecode_path, srt_path)\n"
   ]
  },
  {
   "cell_type": "markdown",
   "metadata": {},
   "source": [
    "Code to rename files"
   ]
  },
  {
   "cell_type": "code",
   "execution_count": null,
   "metadata": {},
   "outputs": [],
   "source": [
    "import os\n",
    "import re\n",
    "\n",
    "for source in os.listdir(PATH + translation_path):\n",
    "\tcomponents = re.split(\"_\", source)\n",
    "\tdest = components[0]+\"_\"+components[1]+\"_\"+components[4]\n",
    "\tsource_path = PATH + translation_path + source\n",
    "\tdest_path = PATH + translation_path + dest\n",
    "\tos.rename(source_path, dest_path)"
   ]
  },
  {
   "cell_type": "markdown",
   "metadata": {},
   "source": [
    "Code to Generate a season of timecoded scripts"
   ]
  },
  {
   "cell_type": "code",
   "execution_count": null,
   "metadata": {},
   "outputs": [
    {
     "name": "stdout",
     "output_type": "stream",
     "text": [
      "P:/LDS/~BMVL Groups 1 & 2/~Translations/Group1/IND/Season 3/BMVL_309_IND.docx\n"
     ]
    }
   ],
   "source": [
    "import timecode\n",
    "import importlib\n",
    "importlib.reload(timecode)\n",
    "\n",
    "for n in EPISODES:\n",
    "    time = PATH + time_path.format(season = SEASON, episode = n)\n",
    "    translation = PATH + translation_path + translation_file.format(season = SEASON, episode = n, lang = LANG)\n",
    "    timescode_script = new_script_path + translation_timecode_file.format(season = SEASON, episode = n, lang = LANG)\n",
    "    print(translation)\n",
    "    timecode.enhance_script(translation, time, timescode_script)"
   ]
  }
 ],
 "metadata": {
  "kernelspec": {
   "display_name": "Python 3",
   "language": "python",
   "name": "python3"
  },
  "language_info": {
   "codemirror_mode": {
    "name": "ipython",
    "version": 3
   },
   "file_extension": ".py",
   "mimetype": "text/x-python",
   "name": "python",
   "nbconvert_exporter": "python",
   "pygments_lexer": "ipython3",
   "version": "3.9.6"
  }
 },
 "nbformat": 4,
 "nbformat_minor": 2
}
