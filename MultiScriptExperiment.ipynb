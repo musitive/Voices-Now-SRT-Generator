{
 "cells": [
  {
   "cell_type": "markdown",
   "metadata": {},
   "source": [
    "Global Constants"
   ]
  },
  {
   "cell_type": "code",
   "execution_count": 1,
   "metadata": {},
   "outputs": [],
   "source": [
    "import sys\n",
    "sys.path.append(\"~/Documents/GitHub/Voices-Now-SRT-Generator/Scripts\")\n",
    "\n",
    "from Captions.LanguageSpecificPunctuationPriority import generate_languages, generate_script_type\n",
    "\n",
    "LANGUAGES = generate_languages()\n",
    "SCRIPTS = generate_script_type()\n",
    "\n",
    "PATH = \"/Volumes/VONGeneral/LDS/~BMVL Groups 1 & 2/\"\n",
    "\n",
    "SEASON_PATH = PATH + \"~Translations/{full_name}/Season {season}/\"\n",
    "\n",
    "TIMECODE_FILE = \"BMVL_{episode}_Timecode.txt\"\n",
    "SRT_FILE = \"Initial SRT Files/BMVL_{episode}_{lang}.txt\"\n",
    "TRANSLATION_FILE = \"Scripts/BMVL_{episode}_{lang}.docx\""
   ]
  },
  {
   "cell_type": "markdown",
   "metadata": {},
   "source": [
    "Code to batch produce BMVL SRT files"
   ]
  },
  {
   "cell_type": "code",
   "execution_count": null,
   "metadata": {},
   "outputs": [],
   "source": [
    "import sys\n",
    "sys.path.append(\"~/Documents/GitHub/Voices-Now-SRT-Generator/Scripts\")\n",
    "\n",
    "from Captions.CaptionMaker import SRTMaker\n",
    "\n",
    "to_time = {\n",
    "    \"TWI\": [\"401\"],\n",
    "    \"TZO\": [\"401\"],\n",
    "    \"YOR\": [\"401\"], \n",
    "    \"IND\": [],\n",
    "    \"KHM\": [],\n",
    "    \"TAH\": [],\n",
    "    \"THA\": [],\n",
    "}\n",
    "\n",
    "for lang in to_time:\n",
    "    full_name = LANGUAGES[lang]\n",
    "\n",
    "    for n in to_time[lang]:\n",
    "        season = n[0]\n",
    "\n",
    "        timecode_path = SEASON_PATH.format(full_name=\"~Timecode\", season=season) + TIMECODE_FILE.format(episode=n)\n",
    "\n",
    "        season_path = SEASON_PATH.format(full_name=full_name, season=season)\n",
    "        translation_path = season_path + TRANSLATION_FILE.format(episode=n, lang=lang)\n",
    "        srt_path = season_path + SRT_FILE.format(episode=n, lang=lang)\n",
    "\n",
    "        print(translation_path)\n",
    "\n",
    "        srt_maker = SRTMaker(translation_path, timecode_path, srt_path, lang)\n",
    "        srt_maker.create_captions(split=True)\n"
   ]
  },
  {
   "cell_type": "markdown",
   "metadata": {},
   "source": [
    "Offset Timecode"
   ]
  },
  {
   "cell_type": "code",
   "execution_count": 3,
   "metadata": {},
   "outputs": [],
   "source": [
    "import sys\n",
    "sys.path.append(\"~/Documents/GitHub/Voices-Now-SRT-Generator/ProToolsMarkers\")\n",
    "\n",
    "from ProToolsMarkers.Timecode import Timecode\n",
    "import re\n",
    "\n",
    "offset = Timecode.from_frames(\"00:10:12:05\")\n",
    "\n",
    "file_name = \"EnglishConnect_Evaluate_TIME\"\n",
    "file_path = f\"/Volumes/VONGeneral/LDS/~Current Projects/English Connect - 5 Teacher Training Videos/Timecode/{file_name}.txt\"\n",
    "correction_path = f\"/Volumes/VONGeneral/LDS/~Current Projects/English Connect - 5 Teacher Training Videos/Timecode/{file_name}_Corrected.txt\"\n",
    "\n",
    "# Read the contents of the timecode file\n",
    "with open(file_path, \"r\") as f:\n",
    "    timecode_data = f.read()\n",
    "\n",
    "# Define the regex pattern to match the timecode format ##:##:##:##\n",
    "pattern = r\"\\d{2}:\\d{2}:\\d{2}:\\d{2}\"\n",
    "\n",
    "# Offset the matched timecodes\n",
    "offset_timecode_data = re.sub(pattern, lambda match: str(Timecode.from_frames(match.group()) - offset), timecode_data)\n",
    "\n",
    "# Write the offset timecode data back to the file\n",
    "with open(correction_path, \"w\") as f:\n",
    "    f.write(offset_timecode_data)\n",
    "    "
   ]
  },
  {
   "cell_type": "markdown",
   "metadata": {},
   "source": [
    "Code for a single SRT file"
   ]
  },
  {
   "cell_type": "code",
   "execution_count": 2,
   "metadata": {},
   "outputs": [
    {
     "name": "stderr",
     "output_type": "stream",
     "text": [
      "/Users/studiod/Documents/GitHub/Voices-Now-SRT-Generator/.venv/lib/python3.9/site-packages/urllib3/__init__.py:35: NotOpenSSLWarning: urllib3 v2 only supports OpenSSL 1.1.1+, currently the 'ssl' module is compiled with 'LibreSSL 2.8.3'. See: https://github.com/urllib3/urllib3/issues/3020\n",
      "  warnings.warn(\n"
     ]
    },
    {
     "ename": "TypeError",
     "evalue": "'dict_keys' object is not subscriptable",
     "output_type": "error",
     "traceback": [
      "\u001b[0;31m---------------------------------------------------------------------------\u001b[0m",
      "\u001b[0;31mTypeError\u001b[0m                                 Traceback (most recent call last)",
      "Cell \u001b[0;32mIn[2], line 25\u001b[0m\n\u001b[1;32m     15\u001b[0m srt_path \u001b[38;5;241m=\u001b[39m project_path\u001b[38;5;241m.\u001b[39mformat(\u001b[38;5;28mtype\u001b[39m\u001b[38;5;241m=\u001b[39m\u001b[38;5;124m\"\u001b[39m\u001b[38;5;124mExpected\u001b[39m\u001b[38;5;124m\"\u001b[39m, \u001b[38;5;28mformat\u001b[39m\u001b[38;5;241m=\u001b[39m\u001b[38;5;124m\"\u001b[39m\u001b[38;5;124msrt\u001b[39m\u001b[38;5;124m\"\u001b[39m)\n\u001b[1;32m     17\u001b[0m \u001b[38;5;66;03m# directory = \"/Users/studiod/Downloads\"\u001b[39;00m\n\u001b[1;32m     18\u001b[0m \u001b[38;5;66;03m# project_path = f\"{directory}/English Connect - 5 Teacher Training Videos\"\u001b[39;00m\n\u001b[1;32m     19\u001b[0m \u001b[38;5;66;03m# videos = [\"Activity 1\", \"Activity 2\", \"Activity 3\", \"Evaluate\", \"Discuss the Principle of Learning\"]\u001b[39;00m\n\u001b[0;32m   (...)\u001b[0m\n\u001b[1;32m     22\u001b[0m \u001b[38;5;66;03m# timecode_path = project_path + \"/Timecode/EnglishConnect_{0}_TIME.txt\" \u001b[39;00m\n\u001b[1;32m     23\u001b[0m \u001b[38;5;66;03m# srt_path = project_path + \"/SRT Files/\" + full + \"/Initial/EnglishConnect_{0}_\" + lang + \".srt\"\u001b[39;00m\n\u001b[0;32m---> 25\u001b[0m srt_maker \u001b[38;5;241m=\u001b[39m \u001b[43mSRTMaker\u001b[49m\u001b[43m(\u001b[49m\u001b[43mtranslation_path\u001b[49m\u001b[43m,\u001b[49m\u001b[43m \u001b[49m\u001b[43mtimecode_path\u001b[49m\u001b[43m,\u001b[49m\u001b[43m \u001b[49m\u001b[43msrt_path\u001b[49m\u001b[43m,\u001b[49m\u001b[43m \u001b[49m\u001b[43mlang\u001b[49m\u001b[43m)\u001b[49m\n\u001b[1;32m     26\u001b[0m srt_maker\u001b[38;5;241m.\u001b[39mcreate_captions(split\u001b[38;5;241m=\u001b[39m\u001b[38;5;28;01mTrue\u001b[39;00m)\n",
      "File \u001b[0;32m~/Documents/GitHub/Voices-Now-SRT-Generator/Captions/CaptionMaker.py:65\u001b[0m, in \u001b[0;36mSRTMaker.__init__\u001b[0;34m(self, script_filename, timecode_filename, srt_filename, lang)\u001b[0m\n\u001b[1;32m     63\u001b[0m \u001b[38;5;28;01melif\u001b[39;00m \u001b[38;5;28mself\u001b[39m\u001b[38;5;241m.\u001b[39mscript_manager\u001b[38;5;241m.\u001b[39mhas_timecodes():\n\u001b[1;32m     64\u001b[0m     timecode_dict \u001b[38;5;241m=\u001b[39m \u001b[38;5;28mself\u001b[39m\u001b[38;5;241m.\u001b[39mscript_manager\u001b[38;5;241m.\u001b[39mget_timecodes()\n\u001b[0;32m---> 65\u001b[0m     \u001b[38;5;28mself\u001b[39m\u001b[38;5;241m.\u001b[39mmarker_manager \u001b[38;5;241m=\u001b[39m \u001b[43mProToolsMarkerManager\u001b[49m\u001b[38;5;241;43m.\u001b[39;49m\u001b[43mfrom_script\u001b[49m\u001b[43m(\u001b[49m\u001b[43mtimecode_dict\u001b[49m\u001b[43m)\u001b[49m\n\u001b[1;32m     66\u001b[0m \u001b[38;5;28;01melse\u001b[39;00m:\n\u001b[1;32m     67\u001b[0m     \u001b[38;5;28;01mraise\u001b[39;00m \u001b[38;5;167;01mException\u001b[39;00m(\u001b[38;5;124m\"\u001b[39m\u001b[38;5;124mNo timecode file provided and no timecodes found in script file\u001b[39m\u001b[38;5;124m\"\u001b[39m)\n",
      "File \u001b[0;32m~/Documents/GitHub/Voices-Now-SRT-Generator/ProToolsMarkers/ProToolsMarkerManager.py:112\u001b[0m, in \u001b[0;36mProToolsMarkerManager.from_script\u001b[0;34m(timecodes)\u001b[0m\n\u001b[1;32m    109\u001b[0m \u001b[38;5;129m@staticmethod\u001b[39m\n\u001b[1;32m    110\u001b[0m \u001b[38;5;28;01mdef\u001b[39;00m \u001b[38;5;21mfrom_script\u001b[39m(timecodes: \u001b[38;5;28mdict\u001b[39m) \u001b[38;5;241m-\u001b[39m\u001b[38;5;241m>\u001b[39m \u001b[38;5;124m'\u001b[39m\u001b[38;5;124mProToolsMarkerManager\u001b[39m\u001b[38;5;124m'\u001b[39m:\n\u001b[1;32m    111\u001b[0m     make_node \u001b[38;5;241m=\u001b[39m \u001b[38;5;28;01mlambda\u001b[39;00m key: ProToolsMarkerManager\u001b[38;5;241m.\u001b[39mMarkerNode(ProToolsMarker(key, timecodes[key] \u001b[38;5;241m+\u001b[39m \u001b[38;5;124m\"\u001b[39m\u001b[38;5;124m:00\u001b[39m\u001b[38;5;124m\"\u001b[39m, \u001b[38;5;28;01mNone\u001b[39;00m, \u001b[38;5;28;01mNone\u001b[39;00m, key, \u001b[38;5;241m24.0\u001b[39m))\n\u001b[0;32m--> 112\u001b[0m     head_node \u001b[38;5;241m=\u001b[39m make_node(\u001b[43mtimecodes\u001b[49m\u001b[38;5;241;43m.\u001b[39;49m\u001b[43mkeys\u001b[49m\u001b[43m(\u001b[49m\u001b[43m)\u001b[49m\u001b[43m[\u001b[49m\u001b[38;5;241;43m0\u001b[39;49m\u001b[43m]\u001b[49m)\n\u001b[1;32m    113\u001b[0m     current_node \u001b[38;5;241m=\u001b[39m head_node\n\u001b[1;32m    115\u001b[0m     \u001b[38;5;28;01mfor\u001b[39;00m key \u001b[38;5;129;01min\u001b[39;00m timecodes\u001b[38;5;241m.\u001b[39mkeys()[\u001b[38;5;241m1\u001b[39m:]:\n",
      "\u001b[0;31mTypeError\u001b[0m: 'dict_keys' object is not subscriptable"
     ]
    }
   ],
   "source": [
    "import sys\n",
    "sys.path.append(\"~/Documents/GitHub/Voices-Now-SRT-Generator/Scripts\")\n",
    "\n",
    "from Captions.CaptionMaker import SRTMaker\n",
    "\n",
    "lang = \"HIN\"\n",
    "full = LANGUAGES[lang]\n",
    "script_type = SCRIPTS[lang]\n",
    "suffix = \"\"\n",
    "test_case = \"01\"\n",
    "\n",
    "project_path = f\"/Volumes/VONLivingDead/~Internal Software/Captioning Test Cases/{script_type} Script Languages/{full}/{lang}_TestCase{test_case}/{lang}_TestCase{test_case}_\" + \"{type}.{format}\"\n",
    "translation_path = project_path.format(type=\"Script\", format=\"docx\")\n",
    "timecode_path = None\n",
    "srt_path = project_path.format(type=\"Expected\", format=\"srt\")\n",
    "\n",
    "# directory = \"/Users/studiod/Downloads\"\n",
    "# project_path = f\"{directory}/English Connect - 5 Teacher Training Videos\"\n",
    "# videos = [\"Activity 1\", \"Activity 2\", \"Activity 3\", \"Evaluate\", \"Discuss the Principle of Learning\"]\n",
    "\n",
    "# translation_path = project_path + \"/Scripts/Translated Scripts/\" + full + \"/EnglishConnect_{0}\" + suffix + \".docx\"\n",
    "# timecode_path = project_path + \"/Timecode/EnglishConnect_{0}_TIME.txt\" \n",
    "# srt_path = project_path + \"/SRT Files/\" + full + \"/Initial/EnglishConnect_{0}_\" + lang + \".srt\"\n",
    "\n",
    "srt_maker = SRTMaker(translation_path, timecode_path, srt_path, lang)\n",
    "srt_maker.create_captions(split=True)"
   ]
  }
 ],
 "metadata": {
  "kernelspec": {
   "display_name": "Python 3",
   "language": "python",
   "name": "python3"
  },
  "language_info": {
   "codemirror_mode": {
    "name": "ipython",
    "version": 3
   },
   "file_extension": ".py",
   "mimetype": "text/x-python",
   "name": "python",
   "nbconvert_exporter": "python",
   "pygments_lexer": "ipython3",
   "version": "3.9.6"
  }
 },
 "nbformat": 4,
 "nbformat_minor": 2
}
