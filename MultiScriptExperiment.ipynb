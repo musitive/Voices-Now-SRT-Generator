{
 "cells": [
  {
   "cell_type": "markdown",
   "metadata": {},
   "source": [
    "Global Constants"
   ]
  },
  {
   "cell_type": "code",
   "execution_count": 1,
   "metadata": {},
   "outputs": [],
   "source": [
    "import sys\n",
    "sys.path.append(\"~/Documents/GitHub/Voices-Now-SRT-Generator/Scripts\")\n",
    "\n",
    "from Captions.LanguageManager import LanguageManager\n",
    "\n",
    "LANGUAGE_MANAGER = LanguageManager()\n",
    "\n",
    "PATH = \"/Volumes/VONGeneral/LDS/~BMVL Groups 1 & 2/\"\n",
    "\n",
    "SEASON_PATH = PATH + \"~Translations/{full_name}/Season {season}/\"\n",
    "\n",
    "TIMECODE_FILE = \"BMVL_{episode}_{ext}.txt\"\n",
    "SRT_FILE = \"Initial SRT Files/BMVL_{episode}_{lang}.txt\"\n",
    "TRANSLATION_FILE = \"Scripts/BMVL_{episode}_{lang}.docx\""
   ]
  },
  {
   "cell_type": "markdown",
   "metadata": {},
   "source": [
    "Code for a single SRT file"
   ]
  },
  {
   "cell_type": "code",
   "execution_count": 4,
   "metadata": {},
   "outputs": [
    {
     "name": "stderr",
     "output_type": "stream",
     "text": [
      "DEBUG:root:EDL: 10\t\t00:02:10:15\n",
      "DEBUG:root:EDL: 14\t\t00:02:45:06\n",
      "DEBUG:root:EDL: 17\t\t00:03:07:19\n",
      "DEBUG:root:EDL: 20\t\t00:03:20:10\n",
      "DEBUG:root:EDL: 21\t\t00:03:25:12\n",
      "DEBUG:root:EDL: 22\t\t00:03:33:10\n",
      "DEBUG:root:EDL: 23\t\t00:03:50:06\n",
      "DEBUG:root:EDL: 24\t\t00:04:13:09\n",
      "DEBUG:root:EDL: 25\t\t00:04:20:03\n",
      "DEBUG:root:EDL: 26\t\t00:04:26:19\n",
      "DEBUG:root:EDL: 27\t\t00:04:36:00\n",
      "DEBUG:root:EDL: 28\t\t00:04:48:14\n",
      "DEBUG:root:EDL: 29\t\t00:05:05:00\n",
      "DEBUG:root:EDL: 30\t\t00:05:11:03\n",
      "DEBUG:root:EDL: 31\t\t00:05:20:12\n",
      "DEBUG:root:EDL: 32\t\t00:06:21:09\n",
      "DEBUG:root:EDL: 33\t\t00:06:40:03\n",
      "DEBUG:root:EDL: 34\t\t00:06:43:05\n",
      "DEBUG:root:EDL: 35\t\t00:06:54:21\n",
      "DEBUG:root:EDL: 37\t\t00:07:27:09\n",
      "DEBUG:root:EDL: 38\t\t00:07:30:16\n",
      "DEBUG:root:EDL: 39\t\t00:07:33:01\n",
      "DEBUG:root:EDL: 40\t\t00:09:04:01\n",
      "DEBUG:root:EDL: 41\t\t00:09:07:02\n",
      "DEBUG:root:EDL: 42\t\t00:09:10:01\n",
      "DEBUG:root:EDL: 44\t\t00:09:49:05\n",
      "DEBUG:root:EDL: 45\t\t00:09:56:23\n",
      "DEBUG:root:EDL: 46\t\t00:10:03:17\n",
      "DEBUG:root:EDL: 47\t\t00:10:06:18\n",
      "DEBUG:root:EDL: 48\t\t00:10:08:23\n",
      "DEBUG:root:EDL: 49\t\t00:10:12:23\n",
      "DEBUG:root:EDL: 50\t\t00:10:16:07\n",
      "DEBUG:root:EDL: 53\t\t00:10:58:16\n",
      "DEBUG:root:EDL: 54\t\t00:11:00:14\n",
      "DEBUG:root:EDL: 55\t\t00:11:02:02\n",
      "DEBUG:root:EDL: 56\t\t00:11:08:01\n",
      "DEBUG:root:EDL: 58\t\t00:11:50:07\n",
      "DEBUG:root:EDL: 59\t\t00:11:56:23\n",
      "DEBUG:root:EDL: 60\t\t00:12:06:00\n",
      "DEBUG:root:EDL: 61\t\t00:12:59:06\n",
      "DEBUG:root:EDL: 62\t\t00:13:07:21\n",
      "DEBUG:root:EDL: 63\t\t00:13:29:15\n",
      "DEBUG:root:EDL: 64\t\t00:16:03:12\n",
      "DEBUG:root:EDL: 65\t\t00:16:09:00\n",
      "DEBUG:root:EDL: 66\t\t00:16:14:16\n"
     ]
    }
   ],
   "source": [
    "import sys\n",
    "sys.path.append(\"Scripts\")\n",
    "\n",
    "from Captions.CaptionMaker import CaptionMaker\n",
    "\n",
    "lang_code = \"THA\"\n",
    "lang = LANGUAGE_MANAGER.get_lang(lang_code)\n",
    "script_type = LANGUAGE_MANAGER.get_script(lang_code)\n",
    "split = LANGUAGE_MANAGER.get_splitter(lang_code)\n",
    "\n",
    "mac = \"/Volumes/VONGeneral\"\n",
    "win = \"P:\"\n",
    "\n",
    "videos = [\"401\"]\n",
    "season = 4\n",
    "\n",
    "data_type = \"EDL\"\n",
    "ext = f\"{data_type}.txt\"\n",
    "\n",
    "project_path = f\"{mac}/LDS/~BMVL Groups 1 & 2/~Translations\"\n",
    "\n",
    "for v in videos:\n",
    "    translation_path = f\"{project_path}/{lang}/Season {season}/Scripts/BMVL_{v}_{lang_code}.docx\"\n",
    "    timecode_path = f\"{project_path}/{lang}/Season {season}/EDLs/BMVL_{v}_{lang_code}.txt\"\n",
    "    srt_path = f\"{project_path}/{lang}/Season {season}/Initial SRT Files/BMVL_{v}_{lang_code}.srt\"\n",
    "\n",
    "    srt_maker = CaptionMaker(translation_path, timecode_path, data_type, lang_code, srt_path, split)\n",
    "    srt_maker.create_captions()"
   ]
  },
  {
   "cell_type": "markdown",
   "metadata": {},
   "source": [
    "Offset Timecode"
   ]
  },
  {
   "cell_type": "code",
   "execution_count": null,
   "metadata": {},
   "outputs": [],
   "source": [
    "import sys\n",
    "sys.path.append(\"~/Documents/GitHub/Voices-Now-SRT-Generator/ProToolsMarkers\")\n",
    "\n",
    "from ProToolsData.Timecode import Timecode\n",
    "import re\n",
    "\n",
    "offset = Timecode.from_frames(\"00:10:12:05\")\n",
    "\n",
    "file_name = \"EnglishConnect_Evaluate_TIME\"\n",
    "file_path = f\"/Volumes/VONGeneral/LDS/~Current Projects/English Connect - 5 Teacher Training Videos/Timecode/{file_name}.txt\"\n",
    "correction_path = f\"/Volumes/VONGeneral/LDS/~Current Projects/English Connect - 5 Teacher Training Videos/Timecode/{file_name}_Corrected.txt\"\n",
    "\n",
    "# Read the contents of the timecode file\n",
    "with open(file_path, \"r\") as f:\n",
    "    timecode_data = f.read()\n",
    "\n",
    "# Define the regex pattern to match the timecode format ##:##:##:##\n",
    "pattern = r\"\\d{2}:\\d{2}:\\d{2}:\\d{2}\"\n",
    "\n",
    "# Offset the matched timecodes\n",
    "offset_timecode_data = re.sub(pattern, lambda match: str(Timecode.from_frames(match.group()) - offset), timecode_data)\n",
    "\n",
    "# Write the offset timecode data back to the file\n",
    "with open(correction_path, \"w\") as f:\n",
    "    f.write(offset_timecode_data)"
   ]
  }
 ],
 "metadata": {
  "kernelspec": {
   "display_name": "Python 3",
   "language": "python",
   "name": "python3"
  },
  "language_info": {
   "codemirror_mode": {
    "name": "ipython",
    "version": 3
   },
   "file_extension": ".py",
   "mimetype": "text/x-python",
   "name": "python",
   "nbconvert_exporter": "python",
   "pygments_lexer": "ipython3",
   "version": "3.9.6"
  }
 },
 "nbformat": 4,
 "nbformat_minor": 2
}
