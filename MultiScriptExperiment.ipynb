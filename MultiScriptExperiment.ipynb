{
 "cells": [
  {
   "cell_type": "markdown",
   "metadata": {},
   "source": [
    "Global Constants"
   ]
  },
  {
   "cell_type": "code",
   "execution_count": 1,
   "metadata": {},
   "outputs": [],
   "source": [
    "import sys\n",
    "sys.path.append(\"~/Documents/GitHub/Voices-Now-SRT-Generator/Scripts\")\n",
    "\n",
    "from Captions.LanguageSpecificPunctuationPriority import generate_languages\n",
    "\n",
    "LANGUAGES = generate_languages()\n",
    "\n",
    "PATH = \"/Volumes/VONGeneral/LDS/~BMVL Groups 1 & 2/\"\n",
    "\n",
    "SEASON_PATH = PATH + \"~Translations/{full_name}/Season {season}/\"\n",
    "\n",
    "TIMECODE_FILE = \"BMVL_{episode}_Timecode.txt\"\n",
    "SRT_FILE = \"Initial SRT Files/BMVL_{episode}_{lang}.txt\"\n",
    "TRANSLATION_FILE = \"Scripts/BMVL_{episode}_{lang}.docx\""
   ]
  },
  {
   "cell_type": "markdown",
   "metadata": {},
   "source": [
    "Code to batch produce BMVL SRT files"
   ]
  },
  {
   "cell_type": "code",
   "execution_count": null,
   "metadata": {},
   "outputs": [],
   "source": [
    "import sys\n",
    "sys.path.append(\"~/Documents/GitHub/Voices-Now-SRT-Generator/Scripts\")\n",
    "\n",
    "from Captions.CaptionMaker import SRTMaker\n",
    "\n",
    "to_time = {\n",
    "    \"TWI\": [\"401\"],\n",
    "    \"TZO\": [\"401\"],\n",
    "    \"YOR\": [\"401\"], \n",
    "    \"IND\": [],\n",
    "    \"KHM\": [],\n",
    "    \"TAH\": [],\n",
    "    \"THA\": [],\n",
    "}\n",
    "\n",
    "for lang in to_time:\n",
    "    full_name = LANGUAGES[lang]\n",
    "\n",
    "    for n in to_time[lang]:\n",
    "        season = n[0]\n",
    "\n",
    "        timecode_path = SEASON_PATH.format(full_name=\"~Timecode\", season=season) + TIMECODE_FILE.format(episode=n)\n",
    "\n",
    "        season_path = SEASON_PATH.format(full_name=full_name, season=season)\n",
    "        translation_path = season_path + TRANSLATION_FILE.format(episode=n, lang=lang)\n",
    "        srt_path = season_path + SRT_FILE.format(episode=n, lang=lang)\n",
    "\n",
    "        print(translation_path)\n",
    "\n",
    "        srt_maker = SRTMaker(translation_path, timecode_path, srt_path, lang)\n",
    "        srt_maker.create_captions(split=True)\n"
   ]
  },
  {
   "cell_type": "markdown",
   "metadata": {},
   "source": [
    "Code for a single SRT file"
   ]
  },
  {
   "cell_type": "code",
   "execution_count": 3,
   "metadata": {},
   "outputs": [],
   "source": [
    "import sys\n",
    "sys.path.append(\"~/Documents/GitHub/Voices-Now-SRT-Generator/ProToolsMarkers\")\n",
    "\n",
    "from ProToolsMarkers.Timecode import Timecode\n",
    "import re\n",
    "\n",
    "offset = Timecode.from_frames(\"00:10:12:05\")\n",
    "\n",
    "file_name = \"EnglishConnect_Evaluate_TIME\"\n",
    "file_path = f\"/Volumes/VONGeneral/LDS/~Current Projects/English Connect - 5 Teacher Training Videos/Timecode/{file_name}.txt\"\n",
    "correction_path = f\"/Volumes/VONGeneral/LDS/~Current Projects/English Connect - 5 Teacher Training Videos/Timecode/{file_name}_Corrected.txt\"\n",
    "\n",
    "# Read the contents of the timecode file\n",
    "with open(file_path, \"r\") as f:\n",
    "    timecode_data = f.read()\n",
    "\n",
    "# Define the regex pattern to match the timecode format ##:##:##:##\n",
    "pattern = r\"\\d{2}:\\d{2}:\\d{2}:\\d{2}\"\n",
    "\n",
    "# Offset the matched timecodes\n",
    "offset_timecode_data = re.sub(pattern, lambda match: str(Timecode.from_frames(match.group()) - offset), timecode_data)\n",
    "\n",
    "# Write the offset timecode data back to the file\n",
    "with open(correction_path, \"w\") as f:\n",
    "    f.write(offset_timecode_data)\n",
    "    "
   ]
  },
  {
   "cell_type": "code",
   "execution_count": 2,
   "metadata": {},
   "outputs": [
    {
     "name": "stderr",
     "output_type": "stream",
     "text": [
      "/Users/studiod/Documents/GitHub/Voices-Now-SRT-Generator/.venv/lib/python3.9/site-packages/urllib3/__init__.py:35: NotOpenSSLWarning: urllib3 v2 only supports OpenSSL 1.1.1+, currently the 'ssl' module is compiled with 'LibreSSL 2.8.3'. See: https://github.com/urllib3/urllib3/issues/3020\n",
      "  warnings.warn(\n",
      "DEBUG:root:Marker: 1\t\t00:00:08:08\n",
      "DEBUG:root:Marker: 2\t\t00:00:29:15\n",
      "DEBUG:root:Marker: 20\t\t00:01:13:03\n",
      "DEBUG:root:Marker: 28\t\t00:01:41:11\n",
      "DEBUG:root:Marker: 33\t\t00:02:04:05\n",
      "DEBUG:root:Marker: 34\t\t00:02:11:11\n",
      "DEBUG:root:Marker: 1\t\t00:00:10:12\n",
      "DEBUG:root:Marker: 8\t\t00:00:40:17\n",
      "DEBUG:root:Marker: 17\t\t00:01:07:18\n",
      "DEBUG:root:Marker: 27\t\t00:01:43:12\n",
      "DEBUG:root:Marker: 1\t\t00:00:10:05\n",
      "DEBUG:root:Marker: 2\t\t00:00:19:23\n",
      "DEBUG:root:Marker: 14\t\t00:00:56:20\n",
      "DEBUG:root:Marker: 15\t\t00:01:11:19\n",
      "DEBUG:root:Marker: 21\t\t00:01:42:16\n",
      "DEBUG:root:Marker: 26\t\t00:02:06:15\n",
      "DEBUG:root:Marker: 27\t\t00:02:15:16\n",
      "DEBUG:root:Marker: 1\t\t00:00:10:03\n",
      "DEBUG:root:Marker: 2\t\t00:00:19:20\n",
      "DEBUG:root:Marker: 3\t\t00:00:28:03\n",
      "DEBUG:root:Marker: 4\t\t00:00:36:20\n",
      "DEBUG:root:Marker: 5\t\t00:00:43:15\n",
      "DEBUG:root:Marker: 6\t\t00:00:49:01\n",
      "DEBUG:root:Marker: 7\t\t00:00:56:04\n",
      "DEBUG:root:Marker: 2\t\t00:00:30:23\n",
      "DEBUG:root:Marker: 4\t\t00:01:03:07\n",
      "DEBUG:root:Marker: 6\t\t00:01:16:08\n",
      "DEBUG:root:Marker: 7\t\t00:01:25:06\n",
      "DEBUG:root:Marker: 10\t\t00:01:50:10\n",
      "DEBUG:root:Marker: 11\t\t00:01:58:10\n",
      "DEBUG:root:Marker: 12\t\t00:02:07:17\n",
      "DEBUG:root:Marker: 13\t\t00:02:17:13\n"
     ]
    }
   ],
   "source": [
    "import sys\n",
    "sys.path.append(\"~/Documents/GitHub/Voices-Now-SRT-Generator/Scripts\")\n",
    "\n",
    "from Captions.CaptionMaker import SRTMaker\n",
    "\n",
    "# project_path = \"/Volumes/VONLivingDead/~Internal Software/Captioning Test Cases/{full}/{lang}_TestCase{num}/{lang}_TestCase{num}_{type}.{format}\"\n",
    "\n",
    "# lang = \"LIN\"\n",
    "# testcase = \"01\"\n",
    "# translation_path = project_path.format(full=LANGUAGES[lang], lang=lang, num=testcase, type=\"Script\", format=\"docx\")\n",
    "# timecode_path = project_path.format(full=LANGUAGES[lang], lang=lang, num=testcase, type=\"Timecode\", format=\"txt\")\n",
    "# srt_path = project_path.format(full=LANGUAGES[lang], lang=lang, num=testcase, type=\"Expected\", format=\"srt\")\n",
    "\n",
    "directory = \"/Users/studiod/Downloads\"\n",
    "project_path = f\"{directory}/English Connect - 5 Teacher Training Videos\"\n",
    "\n",
    "videos = [\"Activity 1\", \"Activity 2\", \"Activity 3\", \"Evaluate\", \"Discuss the Principle of Learning\"]\n",
    "\n",
    "lang = \"POR\"\n",
    "full = LANGUAGES[lang]\n",
    "suffix = \"-POR\"\n",
    "\n",
    "translation_path = project_path + \"/Scripts/Translated Scripts/\" + full + \"/EnglishConnect_{0}\" + suffix + \".docx\"\n",
    "timecode_path = project_path + \"/Timecode/EnglishConnect_{0}_TIME.txt\" \n",
    "srt_path = project_path + \"/SRT Files/\" + full + \"/Initial/EnglishConnect_{0}_\" + lang + \".srt\"\n",
    "\n",
    "for v in videos:\n",
    "    srt_maker = SRTMaker(translation_path.format(v),\n",
    "                         timecode_path.format(v),\n",
    "                         srt_path.format(v),\n",
    "                         lang)\n",
    "    srt_maker.create_captions(split=True)"
   ]
  }
 ],
 "metadata": {
  "kernelspec": {
   "display_name": "Python 3",
   "language": "python",
   "name": "python3"
  },
  "language_info": {
   "codemirror_mode": {
    "name": "ipython",
    "version": 3
   },
   "file_extension": ".py",
   "mimetype": "text/x-python",
   "name": "python",
   "nbconvert_exporter": "python",
   "pygments_lexer": "ipython3",
   "version": "3.9.6"
  }
 },
 "nbformat": 4,
 "nbformat_minor": 2
}
