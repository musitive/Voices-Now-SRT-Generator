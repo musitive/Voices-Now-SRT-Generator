{
 "cells": [
  {
   "cell_type": "markdown",
   "metadata": {},
   "source": [
    "Global Constants"
   ]
  },
  {
   "cell_type": "code",
   "execution_count": 1,
   "metadata": {},
   "outputs": [],
   "source": [
    "import sys\n",
    "sys.path.append(\"~/Documents/GitHub/Voices-Now-SRT-Generator/Scripts\")\n",
    "\n",
    "from Scripts.LanguageSpecificPunctuationPriority import generate_languages\n",
    "\n",
    "LANGUAGES = generate_languages()\n",
    "\n",
    "PATH = \"/Volumes/VONGeneral/LDS/~BMVL Groups 1 & 2/\"\n",
    "\n",
    "SEASON_PATH = PATH + \"~Translations/{full_name}/Season {season}/\"\n",
    "\n",
    "TIMECODE_FILE = \"BMVL_{episode}_Timecode.txt\"\n",
    "SRT_FILE = \"Initial SRT Files/BMVL_{episode}_{lang}.txt\"\n",
    "TRANSLATION_FILE = \"Scripts/BMVL_{episode}_{lang}.docx\""
   ]
  },
  {
   "cell_type": "markdown",
   "metadata": {},
   "source": [
    "Code to batch produce BMVL SRT files"
   ]
  },
  {
   "cell_type": "code",
   "execution_count": null,
   "metadata": {},
   "outputs": [],
   "source": [
    "import sys\n",
    "sys.path.append(\"~/Documents/GitHub/Voices-Now-SRT-Generator/Scripts\")\n",
    "\n",
    "from Scripts.CaptionMaker import SRTMaker\n",
    "\n",
    "to_time = {\n",
    "    \"TWI\": [\"401\"],\n",
    "    \"TZO\": [\"401\"],\n",
    "    \"YOR\": [\"401\"], \n",
    "    \"IND\": [],\n",
    "    \"KHM\": [],\n",
    "    \"TAH\": [],\n",
    "    \"THA\": [],\n",
    "}\n",
    "\n",
    "for lang in to_time:\n",
    "    full_name = LANGUAGES[lang]\n",
    "\n",
    "    for n in to_time[lang]:\n",
    "        season = n[0]\n",
    "\n",
    "        timecode_path = SEASON_PATH.format(full_name=\"~Timecode\", season=season) + TIMECODE_FILE.format(episode=n)\n",
    "\n",
    "        season_path = SEASON_PATH.format(full_name=full_name, season=season)\n",
    "        translation_path = season_path + TRANSLATION_FILE.format(episode=n, lang=lang)\n",
    "        srt_path = season_path + SRT_FILE.format(episode=n, lang=lang)\n",
    "\n",
    "        print(translation_path)\n",
    "\n",
    "        srt_maker = SRTMaker(translation_path, timecode_path, srt_path, lang)\n",
    "        srt_maker.create_captions(split=True)\n"
   ]
  },
  {
   "cell_type": "markdown",
   "metadata": {},
   "source": [
    "Code for a single SRT file"
   ]
  },
  {
   "cell_type": "code",
   "execution_count": 2,
   "metadata": {},
   "outputs": [
    {
     "name": "stdout",
     "output_type": "stream",
     "text": [
      "Marker: 1\t\t00:00:00:03\n",
      "Marker: 2\t\t00:00:04:13\n",
      "Marker: 3\t\t00:00:14:13\n",
      "Marker: 4\t\t00:00:26:00\n",
      "Marker: 5\t\t00:00:38:06\n",
      "Marker: 6\t\t00:00:48:16\n",
      "Marker: 7\t\t00:00:57:02\n",
      "Marker: 8\t\t00:01:10:03\n"
     ]
    }
   ],
   "source": [
    "import sys\n",
    "sys.path.append(\"~/Documents/GitHub/Voices-Now-SRT-Generator/Scripts\")\n",
    "\n",
    "from Scripts.CaptionMaker import SRTMaker\n",
    "\n",
    "project_path = \"/Volumes/VONLivingDead/~Internal Software/Captioning Test Cases/{full}/{lang}_TestCase{num}/{lang}_TestCase{num}_{type}.{format}\"\n",
    "\n",
    "lang = \"LIN\"\n",
    "testcase = \"01\"\n",
    "translation_path = project_path.format(full=LANGUAGES[lang], lang=lang, num=testcase, type=\"Script\", format=\"docx\")\n",
    "timecode_path = project_path.format(full=LANGUAGES[lang], lang=lang, num=testcase, type=\"Timecode\", format=\"txt\")\n",
    "srt_path = project_path.format(full=LANGUAGES[lang], lang=lang, num=testcase, type=\"Expected\", format=\"srt\")\n",
    "\n",
    "srt_maker = SRTMaker(translation_path, timecode_path, srt_path, lang)\n",
    "srt_maker.create_captions(split=True)"
   ]
  }
 ],
 "metadata": {
  "kernelspec": {
   "display_name": "Python 3",
   "language": "python",
   "name": "python3"
  },
  "language_info": {
   "codemirror_mode": {
    "name": "ipython",
    "version": 3
   },
   "file_extension": ".py",
   "mimetype": "text/x-python",
   "name": "python",
   "nbconvert_exporter": "python",
   "pygments_lexer": "ipython3",
   "version": "3.9.6"
  }
 },
 "nbformat": 4,
 "nbformat_minor": 2
}
