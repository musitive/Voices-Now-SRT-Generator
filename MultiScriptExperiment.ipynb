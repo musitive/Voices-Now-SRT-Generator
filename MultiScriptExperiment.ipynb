{
 "cells": [
  {
   "cell_type": "markdown",
   "metadata": {},
   "source": [
    "Global Constants"
   ]
  },
  {
   "cell_type": "code",
   "execution_count": 1,
   "metadata": {},
   "outputs": [],
   "source": [
    "import sys\n",
    "sys.path.append(\"~/Documents/GitHub/Voices-Now-SRT-Generator/Scripts\")\n",
    "\n",
    "from Scripts.LanguageSpecificPunctuationPriority import generate_languages\n",
    "\n",
    "LANGUAGES = generate_languages()\n",
    "\n",
    "PATH = \"/Volumes/VONGeneral/LDS/~BMVL Groups 1 & 2/\"\n",
    "\n",
    "SEASON_PATH = PATH + \"~Translations/{full_name}/Season {season}/\"\n",
    "\n",
    "TIMECODE_FILE = \"BMVL_{episode}_Timecode.txt\"\n",
    "SRT_FILE = \"Initial SRT Files/BMVL_{episode}_{lang}.txt\"\n",
    "TRANSLATION_FILE = \"Scripts/BMVL_{episode}_{lang}.docx\""
   ]
  },
  {
   "cell_type": "markdown",
   "metadata": {},
   "source": [
    "Code to batch produce BMVL SRT files"
   ]
  },
  {
   "cell_type": "code",
   "execution_count": null,
   "metadata": {},
   "outputs": [],
   "source": [
    "import sys\n",
    "sys.path.append(\"~/Documents/GitHub/Voices-Now-SRT-Generator/Scripts\")\n",
    "\n",
    "from Scripts.CaptionMaker import SRTMaker\n",
    "\n",
    "to_time = {\n",
    "    \"TWI\": [\"401\"],\n",
    "    \"TZO\": [\"401\"],\n",
    "    \"YOR\": [\"401\"], \n",
    "    \"IND\": [],\n",
    "    \"KHM\": [],\n",
    "    \"TAH\": [],\n",
    "    \"THA\": [],\n",
    "}\n",
    "\n",
    "for lang in to_time:\n",
    "    full_name = LANGUAGES[lang]\n",
    "\n",
    "    for n in to_time[lang]:\n",
    "        season = n[0]\n",
    "\n",
    "        timecode_path = SEASON_PATH.format(full_name=\"~Timecode\", season=season) + TIMECODE_FILE.format(episode=n)\n",
    "\n",
    "        season_path = SEASON_PATH.format(full_name=full_name, season=season)\n",
    "        translation_path = season_path + TRANSLATION_FILE.format(episode=n, lang=lang)\n",
    "        srt_path = season_path + SRT_FILE.format(episode=n, lang=lang)\n",
    "\n",
    "        print(translation_path)\n",
    "\n",
    "        srt_maker = SRTMaker(translation_path, timecode_path, srt_path, lang)\n",
    "        srt_maker.create_captions(split=True)\n"
   ]
  },
  {
   "cell_type": "markdown",
   "metadata": {},
   "source": [
    "Code for a single SRT file"
   ]
  },
  {
   "cell_type": "code",
   "execution_count": 2,
   "metadata": {},
   "outputs": [
    {
     "ename": "KeyError",
     "evalue": "'LAO'",
     "output_type": "error",
     "traceback": [
      "\u001b[0;31m---------------------------------------------------------------------------\u001b[0m",
      "\u001b[0;31mKeyError\u001b[0m                                  Traceback (most recent call last)",
      "Cell \u001b[0;32mIn[2], line 10\u001b[0m\n\u001b[1;32m      8\u001b[0m lang \u001b[38;5;241m=\u001b[39m \u001b[38;5;124m\"\u001b[39m\u001b[38;5;124mLAO\u001b[39m\u001b[38;5;124m\"\u001b[39m\n\u001b[1;32m      9\u001b[0m testcase \u001b[38;5;241m=\u001b[39m \u001b[38;5;124m\"\u001b[39m\u001b[38;5;124m01\u001b[39m\u001b[38;5;124m\"\u001b[39m\n\u001b[0;32m---> 10\u001b[0m translation_path \u001b[38;5;241m=\u001b[39m project_path\u001b[38;5;241m.\u001b[39mformat(full\u001b[38;5;241m=\u001b[39m\u001b[43mLANGUAGES\u001b[49m\u001b[43m[\u001b[49m\u001b[43mlang\u001b[49m\u001b[43m]\u001b[49m, lang\u001b[38;5;241m=\u001b[39mlang, num\u001b[38;5;241m=\u001b[39mtestcase, \u001b[38;5;28mtype\u001b[39m\u001b[38;5;241m=\u001b[39m\u001b[38;5;124m\"\u001b[39m\u001b[38;5;124mScript\u001b[39m\u001b[38;5;124m\"\u001b[39m, \u001b[38;5;28mformat\u001b[39m\u001b[38;5;241m=\u001b[39m\u001b[38;5;124m\"\u001b[39m\u001b[38;5;124mdocx\u001b[39m\u001b[38;5;124m\"\u001b[39m)\n\u001b[1;32m     11\u001b[0m timecode_path \u001b[38;5;241m=\u001b[39m project_path\u001b[38;5;241m.\u001b[39mformat(full\u001b[38;5;241m=\u001b[39mLANGUAGES[lang], lang\u001b[38;5;241m=\u001b[39mlang, num\u001b[38;5;241m=\u001b[39mtestcase, \u001b[38;5;28mtype\u001b[39m\u001b[38;5;241m=\u001b[39m\u001b[38;5;124m\"\u001b[39m\u001b[38;5;124mTimecode\u001b[39m\u001b[38;5;124m\"\u001b[39m, \u001b[38;5;28mformat\u001b[39m\u001b[38;5;241m=\u001b[39m\u001b[38;5;124m\"\u001b[39m\u001b[38;5;124mtxt\u001b[39m\u001b[38;5;124m\"\u001b[39m)\n\u001b[1;32m     12\u001b[0m srt_path \u001b[38;5;241m=\u001b[39m project_path\u001b[38;5;241m.\u001b[39mformat(full\u001b[38;5;241m=\u001b[39mLANGUAGES[lang], lang\u001b[38;5;241m=\u001b[39mlang, num\u001b[38;5;241m=\u001b[39mtestcase, \u001b[38;5;28mtype\u001b[39m\u001b[38;5;241m=\u001b[39m\u001b[38;5;124m\"\u001b[39m\u001b[38;5;124mExpected\u001b[39m\u001b[38;5;124m\"\u001b[39m, \u001b[38;5;28mformat\u001b[39m\u001b[38;5;241m=\u001b[39m\u001b[38;5;124m\"\u001b[39m\u001b[38;5;124msrt\u001b[39m\u001b[38;5;124m\"\u001b[39m)\n",
      "\u001b[0;31mKeyError\u001b[0m: 'LAO'"
     ]
    }
   ],
   "source": [
    "import sys\n",
    "sys.path.append(\"~/Documents/GitHub/Voices-Now-SRT-Generator/Scripts\")\n",
    "\n",
    "from Scripts.CaptionMaker import SRTMaker\n",
    "\n",
    "project_path = \"/Volumes/VONLivingDead/~Internal Software/Captioning Test Cases/{full}/{lang}_TestCase{num}/{lang}_TestCase{num}_{type}.{format}\"\n",
    "\n",
    "lang = \"LAO\"\n",
    "testcase = \"01\"\n",
    "translation_path = project_path.format(full=LANGUAGES[lang], lang=lang, num=testcase, type=\"Script\", format=\"docx\")\n",
    "timecode_path = project_path.format(full=LANGUAGES[lang], lang=lang, num=testcase, type=\"Timecode\", format=\"txt\")\n",
    "srt_path = project_path.format(full=LANGUAGES[lang], lang=lang, num=testcase, type=\"Expected\", format=\"srt\")\n",
    "\n",
    "srt_maker = SRTMaker(translation_path, timecode_path, srt_path, lang)\n",
    "srt_maker.create_captions(split=True)"
   ]
  }
 ],
 "metadata": {
  "kernelspec": {
   "display_name": "Python 3",
   "language": "python",
   "name": "python3"
  },
  "language_info": {
   "codemirror_mode": {
    "name": "ipython",
    "version": 3
   },
   "file_extension": ".py",
   "mimetype": "text/x-python",
   "name": "python",
   "nbconvert_exporter": "python",
   "pygments_lexer": "ipython3",
   "version": "3.9.6"
  }
 },
 "nbformat": 4,
 "nbformat_minor": 2
}
