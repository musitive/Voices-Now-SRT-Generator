{
 "cells": [
  {
   "cell_type": "markdown",
   "metadata": {},
   "source": [
    "Global Variables"
   ]
  },
  {
   "cell_type": "code",
   "execution_count": 1,
   "metadata": {},
   "outputs": [],
   "source": [
    "SEASON = 4\n",
    "LANG = \"KEK\"\n",
    "\n",
    "languages = {\n",
    "    \"ARA\": [\"Arabic\", 2],\n",
    "    \"FIJ\": [\"Fijian\", 2],\n",
    "    \"IND\": [\"Indonesian\", 1],\n",
    "    \"KEK\": [\"Kekchi\", 2],\n",
    "    \"KHM\": [\"Khmer\", 1],\n",
    "    \"MAH\": [\"Marshallese\", 2],\n",
    "    \"MON\": [\"Mongolian\", 1],\n",
    "    \"TAH\": [\"Tahitian\", 1],\n",
    "    \"THA\": [\"Thai\", 1],\n",
    "    \"URD\": [\"Urdu\", 2],\n",
    "    \"VIE\": [\"Vietnamese\", 2]\n",
    "}\n",
    "\n",
    "seasons = {\n",
    "    1: 8,\n",
    "    2: 8,\n",
    "    3: 9,\n",
    "    4: 9\n",
    "}\n",
    "\n",
    "FULL, GROUP = languages[LANG]\n",
    "\n",
    "PATH = \"P:/LDS/~BMVL Groups 1 & 2/\"\n",
    "\n",
    "time_path = \"z_SRT/~Timecode/Season {season}/BMVL_{season}0{episode}_Timecode.txt\"\n",
    "translation_path = \"~Translations/Group\" + str(GROUP) + \"/\" + LANG + \"/Season \" + str(SEASON) +\"/\"\n",
    "translation_file = \"BMVL_{season}0{episode}_{lang}.docx\"\n",
    "translation_timecode_file = \"BMVL_{season}0{episode}_{lang}_timecode.docx\"\n",
    "srt_path = PATH + \"z_SRT/\" + FULL + \"/Initial SRT Files/Season \" + str(SEASON) + \"/\"\n",
    "srt_filename = \"BMVL_{season}0{episode}_{lang}.txt\"\n",
    "\n",
    "new_script_path = PATH + translation_path + \"Timecode Scripts/\""
   ]
  },
  {
   "cell_type": "markdown",
   "metadata": {},
   "source": [
    "Code to batch produce SRT files"
   ]
  },
  {
   "cell_type": "code",
   "execution_count": 3,
   "metadata": {},
   "outputs": [
    {
     "name": "stdout",
     "output_type": "stream",
     "text": [
      "P:/LDS/~BMVL Groups 1 & 2/~Translations/Group2/KEK/Season 4/BMVL_409_KEK.docx\n"
     ]
    }
   ],
   "source": [
    "import scriptExtract\n",
    "\n",
    "translation_path = \"~Translations/Group\" + str(GROUP) + \"/\" + LANG + \"/Season \" + str(SEASON) + \"/\"\n",
    "\n",
    "for n in range(9,10):\n",
    "    time = PATH + time_path.format(season = SEASON, episode = n)\n",
    "    translation = PATH + translation_path + translation_file.format(season = SEASON, episode = n, lang = LANG)\n",
    "    srt = srt_path + srt_filename.format(season = SEASON, episode = n, lang = LANG)\n",
    "    print(translation)\n",
    "    scriptExtract.createSrtFile(translation, time, srt)\n"
   ]
  },
  {
   "cell_type": "markdown",
   "metadata": {},
   "source": [
    "Code to rename files"
   ]
  },
  {
   "cell_type": "code",
   "execution_count": 3,
   "metadata": {},
   "outputs": [
    {
     "ename": "IndexError",
     "evalue": "list index out of range",
     "output_type": "error",
     "traceback": [
      "\u001b[1;31m---------------------------------------------------------------------------\u001b[0m",
      "\u001b[1;31mIndexError\u001b[0m                                Traceback (most recent call last)",
      "Cell \u001b[1;32mIn[3], line 6\u001b[0m\n\u001b[0;32m      4\u001b[0m \u001b[38;5;28;01mfor\u001b[39;00m source \u001b[38;5;129;01min\u001b[39;00m os\u001b[38;5;241m.\u001b[39mlistdir(PATH \u001b[38;5;241m+\u001b[39m translation_path):\n\u001b[0;32m      5\u001b[0m \tcomponents \u001b[38;5;241m=\u001b[39m re\u001b[38;5;241m.\u001b[39msplit(\u001b[38;5;124m\"\u001b[39m\u001b[38;5;124m_\u001b[39m\u001b[38;5;124m\"\u001b[39m, source)\n\u001b[1;32m----> 6\u001b[0m \tdest \u001b[38;5;241m=\u001b[39m components[\u001b[38;5;241m0\u001b[39m]\u001b[38;5;241m+\u001b[39m\u001b[38;5;124m\"\u001b[39m\u001b[38;5;124m_\u001b[39m\u001b[38;5;124m\"\u001b[39m\u001b[38;5;241m+\u001b[39m\u001b[43mcomponents\u001b[49m\u001b[43m[\u001b[49m\u001b[38;5;241;43m1\u001b[39;49m\u001b[43m]\u001b[49m\u001b[38;5;241m+\u001b[39m\u001b[38;5;124m\"\u001b[39m\u001b[38;5;124m_\u001b[39m\u001b[38;5;124m\"\u001b[39m\u001b[38;5;241m+\u001b[39mcomponents[\u001b[38;5;241m4\u001b[39m]\n\u001b[0;32m      7\u001b[0m \tsource_path \u001b[38;5;241m=\u001b[39m PATH \u001b[38;5;241m+\u001b[39m translation_path \u001b[38;5;241m+\u001b[39m source\n\u001b[0;32m      8\u001b[0m \tdest_path \u001b[38;5;241m=\u001b[39m PATH \u001b[38;5;241m+\u001b[39m translation_path \u001b[38;5;241m+\u001b[39m dest\n",
      "\u001b[1;31mIndexError\u001b[0m: list index out of range"
     ]
    }
   ],
   "source": [
    "import os\n",
    "import re\n",
    "\n",
    "for source in os.listdir(PATH + translation_path):\n",
    "\tcomponents = re.split(\"_\", source)\n",
    "\tdest = components[0]+\"_\"+components[1]+\"_\"+components[4]\n",
    "\tsource_path = PATH + translation_path + source\n",
    "\tdest_path = PATH + translation_path + dest\n",
    "\tos.rename(source_path, dest_path)"
   ]
  },
  {
   "cell_type": "markdown",
   "metadata": {},
   "source": [
    "Code to Generate a season of timecoded scripts"
   ]
  },
  {
   "cell_type": "code",
   "execution_count": 7,
   "metadata": {},
   "outputs": [
    {
     "name": "stdout",
     "output_type": "stream",
     "text": [
      "P:/LDS/~BMVL Groups 1 & 2/~Translations/Group1/IND/Season 3/BMVL_309_IND.docx\n"
     ]
    }
   ],
   "source": [
    "import timecode\n",
    "import importlib\n",
    "importlib.reload(timecode)\n",
    "\n",
    "for n in range(9, 10):\n",
    "    time = PATH + time_path.format(season = SEASON, episode = n)\n",
    "    translation = PATH + translation_path + translation_file.format(season = SEASON, episode = n, lang = LANG)\n",
    "    timescode_script = new_script_path + translation_timecode_file.format(season = SEASON, episode = n, lang = LANG)\n",
    "    print(translation)\n",
    "    timecode.enhance_script(translation, time, timescode_script)"
   ]
  },
  {
   "cell_type": "markdown",
   "metadata": {},
   "source": [
    "Code for Jean Rene fixes"
   ]
  },
  {
   "cell_type": "code",
   "execution_count": 9,
   "metadata": {},
   "outputs": [
    {
     "name": "stdout",
     "output_type": "stream",
     "text": [
      "1\n",
      "2\n",
      "3\n",
      "4\n",
      "5\n",
      "6\n",
      "7\n",
      "8\n"
     ]
    }
   ],
   "source": [
    "import timecode\n",
    "import importlib\n",
    "importlib.reload(timecode)\n",
    "\n",
    "new_script_path = PATH + translation_path + \"SRT Fixes/Timecode Scripts/\"\n",
    "\n",
    "for n in range(1, 9):\n",
    "    time = PATH + time_path.format(season = SEASON, episode = n)\n",
    "    translation = PATH + translation_path + \"SRT Fixes/\" + translation_file.format(season = SEASON, episode = n, lang = LANG)\n",
    "    timescode_script = new_script_path + translation_timecode_file.format(season = SEASON, episode = n, lang = LANG)\n",
    "    \n",
    "    print(n)\n",
    "    timecode.enhance_script(translation, time, timescode_script)\n",
    "\n",
    "time = PATH + time_path.format(season = 3, episode = 8)\n",
    "translation = PATH + translation_path + \"SRT Fixes/\" + translation_file.format(season = 3, episode = 8, lang = LANG)\n",
    "timescode_script = new_script_path + translation_timecode_file.format(season = 3, episode = 8, lang = LANG)\n",
    "    \n",
    "timecode.enhance_script(translation, time, timescode_script)"
   ]
  }
 ],
 "metadata": {
  "kernelspec": {
   "display_name": "Python 3",
   "language": "python",
   "name": "python3"
  },
  "language_info": {
   "codemirror_mode": {
    "name": "ipython",
    "version": 3
   },
   "file_extension": ".py",
   "mimetype": "text/x-python",
   "name": "python",
   "nbconvert_exporter": "python",
   "pygments_lexer": "ipython3",
   "version": "3.12.0"
  }
 },
 "nbformat": 4,
 "nbformat_minor": 2
}
