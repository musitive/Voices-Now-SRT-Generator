{
 "cells": [
  {
   "cell_type": "markdown",
   "metadata": {},
   "source": [
    "Global Constants"
   ]
  },
  {
   "cell_type": "code",
   "execution_count": 4,
   "metadata": {},
   "outputs": [],
   "source": [
    "import sys\n",
    "sys.path.append(\"~/Documents/GitHub/Voices-Now-SRT-Generator/Scripts\")\n",
    "\n",
    "from Captions.LanguageSpecificPunctuationPriority import generate_languages\n",
    "\n",
    "LANGUAGES = generate_languages()\n",
    "\n",
    "PATH = \"/Volumes/VONGeneral/LDS/~BMVL Groups 1 & 2/\"\n",
    "\n",
    "SEASON_PATH = PATH + \"~Translations/{full_name}/Season {season}/\"\n",
    "\n",
    "TIMECODE_FILE = \"BMVL_{episode}_Timecode.txt\"\n",
    "SRT_FILE = \"Initial SRT Files/BMVL_{episode}_{lang}.txt\"\n",
    "TRANSLATION_FILE = \"Scripts/BMVL_{episode}_{lang}.docx\""
   ]
  },
  {
   "cell_type": "markdown",
   "metadata": {},
   "source": [
    "Code to batch produce BMVL SRT files"
   ]
  },
  {
   "cell_type": "code",
   "execution_count": null,
   "metadata": {},
   "outputs": [],
   "source": [
    "import sys\n",
    "sys.path.append(\"~/Documents/GitHub/Voices-Now-SRT-Generator/Scripts\")\n",
    "\n",
    "from Captions.CaptionMaker import SRTMaker\n",
    "\n",
    "to_time = {\n",
    "    \"TWI\": [\"401\"],\n",
    "    \"TZO\": [\"401\"],\n",
    "    \"YOR\": [\"401\"], \n",
    "    \"IND\": [],\n",
    "    \"KHM\": [],\n",
    "    \"TAH\": [],\n",
    "    \"THA\": [],\n",
    "}\n",
    "\n",
    "for lang in to_time:\n",
    "    full_name = LANGUAGES[lang]\n",
    "\n",
    "    for n in to_time[lang]:\n",
    "        season = n[0]\n",
    "\n",
    "        timecode_path = SEASON_PATH.format(full_name=\"~Timecode\", season=season) + TIMECODE_FILE.format(episode=n)\n",
    "\n",
    "        season_path = SEASON_PATH.format(full_name=full_name, season=season)\n",
    "        translation_path = season_path + TRANSLATION_FILE.format(episode=n, lang=lang)\n",
    "        srt_path = season_path + SRT_FILE.format(episode=n, lang=lang)\n",
    "\n",
    "        print(translation_path)\n",
    "\n",
    "        srt_maker = SRTMaker(translation_path, timecode_path, srt_path, lang)\n",
    "        srt_maker.create_captions(split=True)\n"
   ]
  },
  {
   "cell_type": "markdown",
   "metadata": {},
   "source": [
    "Code for a single SRT file"
   ]
  },
  {
   "cell_type": "code",
   "execution_count": 3,
   "metadata": {},
   "outputs": [],
   "source": [
    "import sys\n",
    "sys.path.append(\"~/Documents/GitHub/Voices-Now-SRT-Generator/ProToolsMarkers\")\n",
    "\n",
    "from ProToolsMarkers.Timecode import Timecode\n",
    "import re\n",
    "\n",
    "offset = Timecode.from_frames(\"00:10:12:05\")\n",
    "\n",
    "file_name = \"EnglishConnect_Evaluate_TIME\"\n",
    "file_path = f\"/Volumes/VONGeneral/LDS/~Current Projects/English Connect - 5 Teacher Training Videos/Timecode/{file_name}.txt\"\n",
    "correction_path = f\"/Volumes/VONGeneral/LDS/~Current Projects/English Connect - 5 Teacher Training Videos/Timecode/{file_name}_Corrected.txt\"\n",
    "\n",
    "# Read the contents of the timecode file\n",
    "with open(file_path, \"r\") as f:\n",
    "    timecode_data = f.read()\n",
    "\n",
    "# Define the regex pattern to match the timecode format ##:##:##:##\n",
    "pattern = r\"\\d{2}:\\d{2}:\\d{2}:\\d{2}\"\n",
    "\n",
    "# Offset the matched timecodes\n",
    "offset_timecode_data = re.sub(pattern, lambda match: str(Timecode.from_frames(match.group()) - offset), timecode_data)\n",
    "\n",
    "# Write the offset timecode data back to the file\n",
    "with open(correction_path, \"w\") as f:\n",
    "    f.write(offset_timecode_data)\n",
    "    "
   ]
  },
  {
   "cell_type": "code",
   "execution_count": 12,
   "metadata": {},
   "outputs": [
    {
     "name": "stderr",
     "output_type": "stream",
     "text": [
      "Traceback (most recent call last):\n",
      "  File \"/Users/studiod/Documents/GitHub/Voices-Now-SRT-Generator/.venv/lib/python3.9/site-packages/debugpy/_vendored/pydevd/_pydevd_bundle/pydevd_trace_dispatch_regular.py\", line 359, in __call__\n",
      "    is_stepping = pydev_step_cmd != -1\n",
      "RecursionError: maximum recursion depth exceeded in comparison\n"
     ]
    },
    {
     "ename": "",
     "evalue": "",
     "output_type": "error",
     "traceback": [
      "\u001b[1;31mThe Kernel crashed while executing code in the current cell or a previous cell. \n",
      "\u001b[1;31mPlease review the code in the cell(s) to identify a possible cause of the failure. \n",
      "\u001b[1;31mClick <a href='https://aka.ms/vscodeJupyterKernelCrash'>here</a> for more info. \n",
      "\u001b[1;31mView Jupyter <a href='command:jupyter.viewOutput'>log</a> for further details."
     ]
    }
   ],
   "source": [
    "import sys\n",
    "sys.path.append(\"~/Documents/GitHub/Voices-Now-SRT-Generator/Scripts\")\n",
    "\n",
    "from Captions.CaptionMaker import SRTMaker\n",
    "\n",
    "# project_path = \"/Volumes/VONLivingDead/~Internal Software/Captioning Test Cases/{full}/{lang}_TestCase{num}/{lang}_TestCase{num}_{type}.{format}\"\n",
    "\n",
    "# lang = \"LIN\"\n",
    "# testcase = \"01\"\n",
    "# translation_path = project_path.format(full=LANGUAGES[lang], lang=lang, num=testcase, type=\"Script\", format=\"docx\")\n",
    "# timecode_path = project_path.format(full=LANGUAGES[lang], lang=lang, num=testcase, type=\"Timecode\", format=\"txt\")\n",
    "# srt_path = project_path.format(full=LANGUAGES[lang], lang=lang, num=testcase, type=\"Expected\", format=\"srt\")\n",
    "\n",
    "project_path = \"/Volumes/VONGeneral/LDS/~Current Projects/English Connect - 5 Teacher Training Videos\"\n",
    "\n",
    "videos = [\"Activity 1\", \"Activity 2\", \"Activity 3\", \"Evaluate\", \"Discuss the Principle of Learning\"]\n",
    "\n",
    "lang = \"CMN\"\n",
    "full = LANGUAGES[lang]\n",
    "suffix = \"\"\n",
    "\n",
    "translation_path = project_path + \"/Scripts/Translated Scripts/\" + full + \"/EnglishConnect_{0}\" + suffix + \".docx\"\n",
    "timecode_path = project_path + \"/Timecode/EnglishConnect_{0}_TIME.txt\" \n",
    "srt_path = project_path + \"/SRT Files/\" + full + \"/Initial/EnglishConnect_{0}_\" + lang + \".srt\"\n",
    "\n",
    "for v in videos:\n",
    "    srt_maker = SRTMaker(translation_path.format(v),\n",
    "                         timecode_path.format(v),\n",
    "                         srt_path.format(v),\n",
    "                         lang)\n",
    "    srt_maker.create_captions(split=True)"
   ]
  }
 ],
 "metadata": {
  "kernelspec": {
   "display_name": "Python 3",
   "language": "python",
   "name": "python3"
  },
  "language_info": {
   "codemirror_mode": {
    "name": "ipython",
    "version": 3
   },
   "file_extension": ".py",
   "mimetype": "text/x-python",
   "name": "python",
   "nbconvert_exporter": "python",
   "pygments_lexer": "ipython3",
   "version": "3.9.6"
  }
 },
 "nbformat": 4,
 "nbformat_minor": 2
}
