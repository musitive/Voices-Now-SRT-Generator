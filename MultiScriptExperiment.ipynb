{
 "cells": [
  {
   "cell_type": "markdown",
   "metadata": {},
   "source": [
    "Global Variables"
   ]
  },
  {
   "cell_type": "code",
   "execution_count": 1,
   "metadata": {},
   "outputs": [],
   "source": [
    "SEASON = 1\n",
    "LANG = \"VIE\"\n",
    "FULL = \"Vietnamese\"\n",
    "GROUP = 2\n",
    "\n",
    "PATH = \"P:/LDS/~BMVL Groups 1 & 2/\"\n",
    "\n",
    "time_path = \"z_SRT/~Timecode/Season {season}/BMVL_{season}0{episode}_Timecode.txt\"\n",
    "translation_path = \"~Translations/Group\" + str(GROUP) + \"/\" + LANG + \"/Season \" + str(SEASON) +\"/\"\n",
    "translation_file = \"BMVL_{season}0{episode}_{lang}.docx\"\n",
    "srt_path = PATH + \"z_SRT/\" + FULL + \"/Initial SRT Files/Season \" + str(SEASON) + \"/\"\n",
    "srt_filename = \"BMVL_{season}0{episode}_{lang}.txt\""
   ]
  },
  {
   "cell_type": "markdown",
   "metadata": {},
   "source": [
    "Code to batch produce SRT files"
   ]
  },
  {
   "cell_type": "code",
   "execution_count": 3,
   "metadata": {},
   "outputs": [
    {
     "name": "stderr",
     "output_type": "stream",
     "text": [
      "c:\\Users\\RichardsonJ\\Documents\\Python Scripts\\Word Doc Experiment\\scriptExtract.py:57: SyntaxWarning: invalid escape sequence '\\s'\n",
      "  markerId, timestamp, _, _, loopNumber, _ = re.split(\"\\s+\", marker)\n"
     ]
    }
   ],
   "source": [
    "import scriptExtract\n",
    "\n",
    "for n in range(1, 9):\n",
    "    time = PATH + time_path.format(season = SEASON, episode = n)\n",
    "    translation = PATH + translation_path + translation_file.format(season = SEASON, episode = n, lang = LANG)\n",
    "    srt = srt_path + srt_filename.format(season = SEASON, episode = n, lang = LANG)\n",
    "    \n",
    "    scriptExtract.createSrtFile(translation, time, srt)"
   ]
  },
  {
   "cell_type": "markdown",
   "metadata": {},
   "source": [
    "Code to rename files"
   ]
  },
  {
   "cell_type": "code",
   "execution_count": 2,
   "metadata": {},
   "outputs": [],
   "source": [
    "import os\n",
    "import re\n",
    "\n",
    "for source in os.listdir(PATH + translation_path):\n",
    "\tcomponents = re.split(\"_\", source)\n",
    "\tdest = components[0]+\"_\"+components[1]+\"_\"+components[4]\n",
    "\tsource_path = PATH + translation_path + source\n",
    "\tdest_path = PATH + translation_path + dest\n",
    "\tos.rename(source_path, dest_path)"
   ]
  }
 ],
 "metadata": {
  "kernelspec": {
   "display_name": "Python 3",
   "language": "python",
   "name": "python3"
  },
  "language_info": {
   "codemirror_mode": {
    "name": "ipython",
    "version": 3
   },
   "file_extension": ".py",
   "mimetype": "text/x-python",
   "name": "python",
   "nbconvert_exporter": "python",
   "pygments_lexer": "ipython3",
   "version": "3.12.0"
  }
 },
 "nbformat": 4,
 "nbformat_minor": 2
}
