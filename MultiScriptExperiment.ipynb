{
 "cells": [
  {
   "cell_type": "markdown",
   "metadata": {},
   "source": [
    "Global Variables"
   ]
  },
  {
   "cell_type": "code",
   "execution_count": 4,
   "metadata": {},
   "outputs": [],
   "source": [
    "SEASON = 5\n",
    "LANG = \"THA\"\n",
    "\n",
    "languages = {\n",
    "    \"ARA\": [\"Arabic\", 2],\n",
    "    \"FIJ\": [\"Fijian\", 2],\n",
    "    \"IND\": [\"Indonesian\", 1],\n",
    "    \"KEK\": [\"Kekchi\", 2],\n",
    "    \"KHM\": [\"Khmer\", 1],\n",
    "    \"MAH\": [\"Marshallese\", 2],\n",
    "    \"MON\": [\"Mongolian\", 1],\n",
    "    \"TAH\": [\"Tahitian\", 1],\n",
    "    \"THA\": [\"Thai\", 1],\n",
    "    \"URD\": [\"Urdu\", 2],\n",
    "    \"VIE\": [\"Vietnamese\", 2]\n",
    "}\n",
    "\n",
    "seasons = {\n",
    "    1: 8,\n",
    "    2: 8,\n",
    "    3: 9,\n",
    "    4: 9,\n",
    "    5: 5\n",
    "}\n",
    "\n",
    "FULL, GROUP = languages[LANG]\n",
    "\n",
    "PATH = \"/Volumes/VONGeneral/LDS/~BMVL Groups 1 & 2/\"\n",
    "\n",
    "time_path = \"z_SRT/~Timecode/Season {season}/BMVL_{season}0{episode}_Timecode.txt\"\n",
    "translation_path = \"~Translations/Group\" + str(GROUP) + \"/\" + LANG + \"/Season \" + str(SEASON) +\"/\"\n",
    "translation_file = \"BMVL_{season}0{episode}_{lang}.docx\"\n",
    "translation_timecode_file = \"BMVL_{season}0{episode}_{lang}_timecode.docx\"\n",
    "srt_path = PATH + \"z_SRT/\" + FULL + \"/Initial SRT Files/Season \" + str(SEASON) + \"/\"\n",
    "srt_filename = \"BMVL_{season}0{episode}_{lang}.txt\"\n",
    "\n",
    "new_script_path = PATH + translation_path + \"Timecode Scripts/\""
   ]
  },
  {
   "cell_type": "markdown",
   "metadata": {},
   "source": [
    "Code to batch produce SRT files"
   ]
  },
  {
   "cell_type": "code",
   "execution_count": 5,
   "metadata": {},
   "outputs": [
    {
     "name": "stdout",
     "output_type": "stream",
     "text": [
      "P:/LDS/~BMVL Groups 1 & 2/~Translations/Group1/THA/Season 5/BMVL_506_THA.docx\n"
     ]
    },
    {
     "ename": "FileNotFoundError",
     "evalue": "[Errno 2] No such file or directory: 'P:/LDS/~BMVL Groups 1 & 2/z_SRT/~Timecode/Season 5/BMVL_506_Timecode.txt'",
     "output_type": "error",
     "traceback": [
      "\u001b[0;31m---------------------------------------------------------------------------\u001b[0m",
      "\u001b[0;31mFileNotFoundError\u001b[0m                         Traceback (most recent call last)",
      "Cell \u001b[0;32mIn[5], line 10\u001b[0m\n\u001b[1;32m      8\u001b[0m srt \u001b[38;5;241m=\u001b[39m srt_path \u001b[38;5;241m+\u001b[39m srt_filename\u001b[38;5;241m.\u001b[39mformat(season \u001b[38;5;241m=\u001b[39m SEASON, episode \u001b[38;5;241m=\u001b[39m n, lang \u001b[38;5;241m=\u001b[39m LANG)\n\u001b[1;32m      9\u001b[0m \u001b[38;5;28mprint\u001b[39m(translation)\n\u001b[0;32m---> 10\u001b[0m \u001b[43mscriptExtract\u001b[49m\u001b[38;5;241;43m.\u001b[39;49m\u001b[43mcreate_srt_file\u001b[49m\u001b[43m(\u001b[49m\u001b[43mtranslation\u001b[49m\u001b[43m,\u001b[49m\u001b[43m \u001b[49m\u001b[43mtime\u001b[49m\u001b[43m,\u001b[49m\u001b[43m \u001b[49m\u001b[43msrt\u001b[49m\u001b[43m)\u001b[49m\n",
      "File \u001b[0;32m~/Documents/GitHub/Voices-Now-SRT-Generator/scriptExtract.py:19\u001b[0m, in \u001b[0;36mcreate_srt_file\u001b[0;34m(word_filename, timecode_filename, srt_filename)\u001b[0m\n\u001b[1;32m     17\u001b[0m \u001b[38;5;28;01mdef\u001b[39;00m \u001b[38;5;21mcreate_srt_file\u001b[39m(word_filename: \u001b[38;5;28mstr\u001b[39m, timecode_filename: \u001b[38;5;28mstr\u001b[39m, srt_filename: \u001b[38;5;28mstr\u001b[39m) \u001b[38;5;241m-\u001b[39m\u001b[38;5;241m>\u001b[39m \u001b[38;5;28;01mNone\u001b[39;00m:\n\u001b[1;32m     18\u001b[0m     \u001b[38;5;66;03m# Open relevant documents\u001b[39;00m\n\u001b[0;32m---> 19\u001b[0m     markers \u001b[38;5;241m=\u001b[39m \u001b[43mProToolsMarkers\u001b[49m\u001b[43m(\u001b[49m\u001b[43mtimecode_filename\u001b[49m\u001b[43m)\u001b[49m                    \u001b[38;5;66;03m# Open Pro Tools Marker file\u001b[39;00m\n\u001b[1;32m     20\u001b[0m     script \u001b[38;5;241m=\u001b[39m LdsScript(word_filename)                               \u001b[38;5;66;03m# Open Word Document\u001b[39;00m\n\u001b[1;32m     21\u001b[0m     srt_file \u001b[38;5;241m=\u001b[39m codecs\u001b[38;5;241m.\u001b[39mopen(srt_filename, \u001b[38;5;124m\"\u001b[39m\u001b[38;5;124mw+\u001b[39m\u001b[38;5;124m\"\u001b[39m, encoding\u001b[38;5;241m=\u001b[39m\u001b[38;5;124m\"\u001b[39m\u001b[38;5;124mutf-8\u001b[39m\u001b[38;5;124m\"\u001b[39m)    \u001b[38;5;66;03m# Open SRT file\u001b[39;00m\n",
      "File \u001b[0;32m~/Documents/GitHub/Voices-Now-SRT-Generator/ProToolsMarkers.py:27\u001b[0m, in \u001b[0;36mProToolsMarkers.__init__\u001b[0;34m(self, filename)\u001b[0m\n\u001b[1;32m     26\u001b[0m \u001b[38;5;28;01mdef\u001b[39;00m \u001b[38;5;21m__init__\u001b[39m(\u001b[38;5;28mself\u001b[39m, filename: \u001b[38;5;28mstr\u001b[39m):\n\u001b[0;32m---> 27\u001b[0m     timecode_file \u001b[38;5;241m=\u001b[39m \u001b[38;5;28;43mopen\u001b[39;49m\u001b[43m(\u001b[49m\u001b[43mfilename\u001b[49m\u001b[43m,\u001b[49m\u001b[43m \u001b[49m\u001b[38;5;124;43m\"\u001b[39;49m\u001b[38;5;124;43mr\u001b[39;49m\u001b[38;5;124;43m\"\u001b[39;49m\u001b[43m)\u001b[49m\n\u001b[1;32m     28\u001b[0m     timecode_index \u001b[38;5;241m=\u001b[39m \u001b[38;5;241m0\u001b[39m\n\u001b[1;32m     29\u001b[0m     \u001b[38;5;28mself\u001b[39m\u001b[38;5;241m.\u001b[39mmarkers \u001b[38;5;241m=\u001b[39m []\n",
      "\u001b[0;31mFileNotFoundError\u001b[0m: [Errno 2] No such file or directory: 'P:/LDS/~BMVL Groups 1 & 2/z_SRT/~Timecode/Season 5/BMVL_506_Timecode.txt'"
     ]
    }
   ],
   "source": [
    "import scriptExtract\n",
    "\n",
    "translation_path = \"~Translations/Group\" + str(GROUP) + \"/\" + LANG + \"/Season \" + str(SEASON) + \"/\"\n",
    "\n",
    "for n in range(6,9):\n",
    "    time = PATH + time_path.format(season = SEASON, episode = n)\n",
    "    translation = PATH + translation_path + translation_file.format(season = SEASON, episode = n, lang = LANG)\n",
    "    srt = srt_path + srt_filename.format(season = SEASON, episode = n, lang = LANG)\n",
    "    print(translation)\n",
    "    scriptExtract.create_srt_file(translation, time, srt)\n"
   ]
  },
  {
   "cell_type": "markdown",
   "metadata": {},
   "source": [
    "Code to rename files"
   ]
  },
  {
   "cell_type": "code",
   "execution_count": 2,
   "metadata": {},
   "outputs": [],
   "source": [
    "import os\n",
    "import re\n",
    "\n",
    "for source in os.listdir(PATH + translation_path):\n",
    "\tcomponents = re.split(\"_\", source)\n",
    "\tdest = components[0]+\"_\"+components[1]+\"_\"+components[4]\n",
    "\tsource_path = PATH + translation_path + source\n",
    "\tdest_path = PATH + translation_path + dest\n",
    "\tos.rename(source_path, dest_path)"
   ]
  },
  {
   "cell_type": "markdown",
   "metadata": {},
   "source": [
    "Code to Generate a season of timecoded scripts"
   ]
  },
  {
   "cell_type": "code",
   "execution_count": 7,
   "metadata": {},
   "outputs": [
    {
     "name": "stdout",
     "output_type": "stream",
     "text": [
      "P:/LDS/~BMVL Groups 1 & 2/~Translations/Group1/IND/Season 3/BMVL_309_IND.docx\n"
     ]
    }
   ],
   "source": [
    "import timecode\n",
    "import importlib\n",
    "importlib.reload(timecode)\n",
    "\n",
    "for n in range(9, 10):\n",
    "    time = PATH + time_path.format(season = SEASON, episode = n)\n",
    "    translation = PATH + translation_path + translation_file.format(season = SEASON, episode = n, lang = LANG)\n",
    "    timescode_script = new_script_path + translation_timecode_file.format(season = SEASON, episode = n, lang = LANG)\n",
    "    print(translation)\n",
    "    timecode.enhance_script(translation, time, timescode_script)"
   ]
  }
 ],
 "metadata": {
  "kernelspec": {
   "display_name": "Python 3",
   "language": "python",
   "name": "python3"
  },
  "language_info": {
   "codemirror_mode": {
    "name": "ipython",
    "version": 3
   },
   "file_extension": ".py",
   "mimetype": "text/x-python",
   "name": "python",
   "nbconvert_exporter": "python",
   "pygments_lexer": "ipython3",
   "version": "3.12.0"
  }
 },
 "nbformat": 4,
 "nbformat_minor": 2
}
