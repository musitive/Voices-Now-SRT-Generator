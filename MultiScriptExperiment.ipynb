{
 "cells": [
  {
   "cell_type": "markdown",
   "metadata": {},
   "source": [
    "Global Constants"
   ]
  },
  {
   "cell_type": "code",
   "execution_count": 1,
   "metadata": {},
   "outputs": [],
   "source": [
    "import csv\n",
    "\n",
    "LANGUAGES = {}\n",
    "with open('Scripts/All_Languages.csv') as csvfile:\n",
    "    reader = csv.reader(csvfile)\n",
    "    for row in reader:\n",
    "        LANGUAGES[row[1].upper()] = row[2]\n",
    "\n",
    "\n",
    "PATH = \"/Volumes/VONGeneral/LDS/~BMVL Groups 1 & 2/\"\n",
    "\n",
    "SEASON_PATH = PATH + \"~Translations/{full_name}/Season {season}/\"\n",
    "\n",
    "TIMECODE_FILE = \"BMVL_{episode}_Timecode.txt\"\n",
    "SRT_FILE = \"Initial SRT Files/BMVL_{episode}_{lang}.txt\"\n",
    "TRANSLATION_FILE = \"Scripts/BMVL_{episode}_{lang}.docx\""
   ]
  },
  {
   "cell_type": "markdown",
   "metadata": {},
   "source": [
    "Global Variables"
   ]
  },
  {
   "cell_type": "code",
   "execution_count": 10,
   "metadata": {},
   "outputs": [],
   "source": [
    "to_time = {\n",
    "    \"TWI\": [\"401\"],\n",
    "    \"TZO\": [\"401\"],\n",
    "    \"YOR\": [\"401\"], \n",
    "    \"IND\": [],\n",
    "    \"KHM\": [],\n",
    "    \"TAH\": [],\n",
    "    \"THA\": [],\n",
    "}"
   ]
  },
  {
   "cell_type": "markdown",
   "metadata": {},
   "source": [
    "Code to batch produce BMVL SRT files"
   ]
  },
  {
   "cell_type": "code",
   "execution_count": 13,
   "metadata": {},
   "outputs": [
    {
     "name": "stdout",
     "output_type": "stream",
     "text": [
      "/Volumes/VONGeneral/LDS/~BMVL Groups 1 & 2/~Translations/Twi/Season 4/Scripts/BMVL_401_TWI.docx\n",
      "/Volumes/VONGeneral/LDS/~BMVL Groups 1 & 2/~Translations/Tzotzil/Season 4/Scripts/BMVL_401_TZO.docx\n",
      "/Volumes/VONGeneral/LDS/~BMVL Groups 1 & 2/~Translations/Yoruba/Season 4/Scripts/BMVL_401_YOR.docx\n"
     ]
    }
   ],
   "source": [
    "import sys\n",
    "sys.path.append(\"~/Documents/GitHub/Voices-Now-SRT-Generator/Scripts\")\n",
    "\n",
    "from Scripts.CaptionMaker import SRTMaker\n",
    "\n",
    "for lang in to_time:\n",
    "    full_name = LANGUAGES[lang]\n",
    "\n",
    "    for n in to_time[lang]:\n",
    "        season = n[0]\n",
    "\n",
    "        timecode_path = SEASON_PATH.format(full_name=\"~Timecode\", season=season) + TIMECODE_FILE.format(episode=n)\n",
    "\n",
    "        season_path = SEASON_PATH.format(full_name=full_name, season=season)\n",
    "        translation_path = season_path + TRANSLATION_FILE.format(episode=n, lang=lang)\n",
    "        srt_path = season_path + SRT_FILE.format(episode=n, lang=lang)\n",
    "\n",
    "        print(translation_path)\n",
    "\n",
    "        srt_maker = SRTMaker(translation_path, timecode_path, srt_path, lang)\n",
    "        srt_maker.create_captions(split=True)\n"
   ]
  },
  {
   "cell_type": "markdown",
   "metadata": {},
   "source": [
    "Code to rename files"
   ]
  },
  {
   "cell_type": "code",
   "execution_count": null,
   "metadata": {},
   "outputs": [],
   "source": [
    "import os\n",
    "import re\n",
    "\n",
    "for source in os.listdir(translation_path):\n",
    "\tcomponents = re.split(\"_\", source)\n",
    "\tdest = components[0]+\"_\"+components[1]+\"_\"+components[4]\n",
    "\tsource_path = translation_path + source\n",
    "\tdest_path = translation_path + dest\n",
    "\tos.rename(source_path, dest_path)"
   ]
  },
  {
   "cell_type": "markdown",
   "metadata": {},
   "source": [
    "Code to Generate a season of timecoded scripts"
   ]
  },
  {
   "cell_type": "code",
   "execution_count": null,
   "metadata": {},
   "outputs": [
    {
     "name": "stdout",
     "output_type": "stream",
     "text": [
      "P:/LDS/~BMVL Groups 1 & 2/~Translations/Group1/IND/Season 3/BMVL_309_IND.docx\n"
     ]
    }
   ],
   "source": [
    "import TimecodeScriptMaker\n",
    "import importlib\n",
    "importlib.reload(TimecodeScriptMaker)\n",
    "\n",
    "for lang in to_time:\n",
    "    full_name = LANGUAGES[lang][0]\n",
    "\n",
    "    for n in to_time[lang]:\n",
    "        season = n[0]\n",
    "\n",
    "        timecode_path = SEASON_PATH.format(full_name=\"~Timecode\", season=season) + TIMECODE_FILE.format(episode=n)\n",
    "\n",
    "        season_path = SEASON_PATH.format(full_name=full_name, season=season)\n",
    "        translation_path = season_path + TRANSLATION_FILE.format(episode=n, lang=lang)\n",
    "        srt_path = season_path + SRT_FILE.format(episode=n, lang=lang)\n",
    "\n",
    "        print(translation_path)\n",
    "\n",
    "        srt_maker = SRTMaker(translation_path, timecode_path, srt_path, lang)\n",
    "        srt_maker.create_captions(split=True)"
   ]
  },
  {
   "cell_type": "markdown",
   "metadata": {},
   "source": [
    "Code for a single SRT file"
   ]
  },
  {
   "cell_type": "code",
   "execution_count": 2,
   "metadata": {},
   "outputs": [
    {
     "name": "stdout",
     "output_type": "stream",
     "text": [
      "Marker: 1\t\t<ProToolsMarkers.Timecode.Timecode object at 0x104812f70>\n",
      "Marker: 2\t\t<ProToolsMarkers.Timecode.Timecode object at 0x104812e80>\n",
      "Marker: 3\t\t<ProToolsMarkers.Timecode.Timecode object at 0x104b991c0>\n",
      "Marker: 4\t\t<ProToolsMarkers.Timecode.Timecode object at 0x104b99df0>\n",
      "Marker: 5\t\t<ProToolsMarkers.Timecode.Timecode object at 0x104b99e80>\n",
      "Marker: 6\t\t<ProToolsMarkers.Timecode.Timecode object at 0x104ba8280>\n",
      "Marker: 7\t\t<ProToolsMarkers.Timecode.Timecode object at 0x104bb6790>\n",
      "Marker: 8\t\t<ProToolsMarkers.Timecode.Timecode object at 0x104c0e040>\n",
      "Marker: 9\t\t<ProToolsMarkers.Timecode.Timecode object at 0x104c0ea30>\n",
      "Marker: 10\t\t<ProToolsMarkers.Timecode.Timecode object at 0x104c0ebe0>\n",
      "Marker: 11\t\t<ProToolsMarkers.Timecode.Timecode object at 0x104c0ec70>\n",
      "Marker: 12\t\t<ProToolsMarkers.Timecode.Timecode object at 0x104c0ed00>\n",
      "Marker: 13\t\t<ProToolsMarkers.Timecode.Timecode object at 0x104c0ed90>\n",
      "Marker: 14\t\t<ProToolsMarkers.Timecode.Timecode object at 0x104c0ee20>\n",
      "Marker: 15\t\t<ProToolsMarkers.Timecode.Timecode object at 0x104c0eeb0>\n",
      "Marker: 16\t\t<ProToolsMarkers.Timecode.Timecode object at 0x104c0ef40>\n",
      "Marker: 17\t\t<ProToolsMarkers.Timecode.Timecode object at 0x104c0efd0>\n",
      "Marker: 18\t\t<ProToolsMarkers.Timecode.Timecode object at 0x104c1c130>\n",
      "Marker: 19\t\t<ProToolsMarkers.Timecode.Timecode object at 0x104c1c1c0>\n",
      "Marker: 20\t\t<ProToolsMarkers.Timecode.Timecode object at 0x104c1c250>\n",
      "Marker: 21\t\t<ProToolsMarkers.Timecode.Timecode object at 0x104c1c2e0>\n",
      "Marker: 22\t\t<ProToolsMarkers.Timecode.Timecode object at 0x104c1c370>\n",
      "Marker: 23\t\t<ProToolsMarkers.Timecode.Timecode object at 0x104c1c400>\n",
      "Marker: 24\t\t<ProToolsMarkers.Timecode.Timecode object at 0x104c1c490>\n",
      "Marker: 25\t\t<ProToolsMarkers.Timecode.Timecode object at 0x104c1c520>\n",
      "Marker: 26\t\t<ProToolsMarkers.Timecode.Timecode object at 0x104c1c5b0>\n",
      "Marker: 27\t\t<ProToolsMarkers.Timecode.Timecode object at 0x104c1c640>\n",
      "Marker: 28\t\t<ProToolsMarkers.Timecode.Timecode object at 0x104c1c6d0>\n",
      "Marker: 29\t\t<ProToolsMarkers.Timecode.Timecode object at 0x104c1c760>\n",
      "Marker: 30\t\t<ProToolsMarkers.Timecode.Timecode object at 0x104c1c7f0>\n",
      "Marker: 31\t\t<ProToolsMarkers.Timecode.Timecode object at 0x104c1c880>\n",
      "Marker: 32\t\t<ProToolsMarkers.Timecode.Timecode object at 0x104c1c910>\n",
      "Marker: 33\t\t<ProToolsMarkers.Timecode.Timecode object at 0x104c1c9a0>\n",
      "Marker: 34\t\t<ProToolsMarkers.Timecode.Timecode object at 0x104c1ca30>\n",
      "Marker: 35\t\t<ProToolsMarkers.Timecode.Timecode object at 0x104c1cac0>\n",
      "Marker: 36\t\t<ProToolsMarkers.Timecode.Timecode object at 0x104c1cb50>\n",
      "Marker: 37\t\t<ProToolsMarkers.Timecode.Timecode object at 0x104c1cbe0>\n",
      "Marker: 38\t\t<ProToolsMarkers.Timecode.Timecode object at 0x104c1cc70>\n",
      "Marker: 39\t\t<ProToolsMarkers.Timecode.Timecode object at 0x104c1cd00>\n",
      "Marker: 40\t\t<ProToolsMarkers.Timecode.Timecode object at 0x104c1cd90>\n",
      "Marker: 41\t\t<ProToolsMarkers.Timecode.Timecode object at 0x104c1ce20>\n",
      "Marker: 42\t\t<ProToolsMarkers.Timecode.Timecode object at 0x104c1ceb0>\n",
      "Marker: 43\t\t<ProToolsMarkers.Timecode.Timecode object at 0x104c1cf40>\n",
      "Marker: 44\t\t<ProToolsMarkers.Timecode.Timecode object at 0x104c1cfd0>\n",
      "Marker: 45\t\t<ProToolsMarkers.Timecode.Timecode object at 0x104c210a0>\n",
      "Marker: 46\t\t<ProToolsMarkers.Timecode.Timecode object at 0x104c21130>\n",
      "Marker: 47\t\t<ProToolsMarkers.Timecode.Timecode object at 0x104c211c0>\n",
      "Marker: 48\t\t<ProToolsMarkers.Timecode.Timecode object at 0x104c21250>\n",
      "Marker: 49\t\t<ProToolsMarkers.Timecode.Timecode object at 0x104c212e0>\n",
      "Marker: 50\t\t<ProToolsMarkers.Timecode.Timecode object at 0x104c21370>\n",
      "Marker: 51\t\t<ProToolsMarkers.Timecode.Timecode object at 0x104c21400>\n",
      "Marker: 52\t\t<ProToolsMarkers.Timecode.Timecode object at 0x104c21490>\n",
      "Marker: 53\t\t<ProToolsMarkers.Timecode.Timecode object at 0x104c21520>\n",
      "Marker: 54\t\t<ProToolsMarkers.Timecode.Timecode object at 0x104c215b0>\n",
      "Marker: 55\t\t<ProToolsMarkers.Timecode.Timecode object at 0x104c21640>\n",
      "Marker: 56\t\t<ProToolsMarkers.Timecode.Timecode object at 0x104c216d0>\n",
      "Marker: 57\t\t<ProToolsMarkers.Timecode.Timecode object at 0x104c21760>\n",
      "Marker: 58\t\t<ProToolsMarkers.Timecode.Timecode object at 0x104c217f0>\n",
      "Marker: 59\t\t<ProToolsMarkers.Timecode.Timecode object at 0x104c21880>\n",
      "Marker: 60\t\t<ProToolsMarkers.Timecode.Timecode object at 0x104c21910>\n",
      "Marker: 61\t\t<ProToolsMarkers.Timecode.Timecode object at 0x104c219a0>\n",
      "Marker: 62\t\t<ProToolsMarkers.Timecode.Timecode object at 0x104c21a30>\n",
      "Marker: 63\t\t<ProToolsMarkers.Timecode.Timecode object at 0x104c21ac0>\n",
      "Marker: 64\t\t<ProToolsMarkers.Timecode.Timecode object at 0x104c21b50>\n",
      "Marker: 65\t\t<ProToolsMarkers.Timecode.Timecode object at 0x104c21be0>\n",
      "Marker: 66\t\t<ProToolsMarkers.Timecode.Timecode object at 0x104c21c70>\n",
      "Marker: 67\t\t<ProToolsMarkers.Timecode.Timecode object at 0x104c21d00>\n",
      "Marker: 68\t\t<ProToolsMarkers.Timecode.Timecode object at 0x104c21d90>\n",
      "Marker: 69\t\t<ProToolsMarkers.Timecode.Timecode object at 0x104c21e20>\n",
      "Marker: 70\t\t<ProToolsMarkers.Timecode.Timecode object at 0x104c21eb0>\n",
      "Marker: 71\t\t<ProToolsMarkers.Timecode.Timecode object at 0x104c21f40>\n",
      "Marker: 72\t\t<ProToolsMarkers.Timecode.Timecode object at 0x104c21fd0>\n",
      "Marker: 73\t\t<ProToolsMarkers.Timecode.Timecode object at 0x104c230a0>\n",
      "Marker: 74\t\t<ProToolsMarkers.Timecode.Timecode object at 0x104c23130>\n",
      "Marker: 75\t\t<ProToolsMarkers.Timecode.Timecode object at 0x104c231c0>\n",
      "Marker: 76\t\t<ProToolsMarkers.Timecode.Timecode object at 0x104c23250>\n",
      "Marker: 77\t\t<ProToolsMarkers.Timecode.Timecode object at 0x104c232e0>\n",
      "Marker: 78\t\t<ProToolsMarkers.Timecode.Timecode object at 0x104c23370>\n",
      "Marker: 79\t\t<ProToolsMarkers.Timecode.Timecode object at 0x104c23490>\n",
      "Marker: 80\t\t<ProToolsMarkers.Timecode.Timecode object at 0x104c23520>\n",
      "Marker: 81\t\t<ProToolsMarkers.Timecode.Timecode object at 0x104c235b0>\n",
      "Marker: 82\t\t<ProToolsMarkers.Timecode.Timecode object at 0x104c236d0>\n",
      "Marker: 83\t\t<ProToolsMarkers.Timecode.Timecode object at 0x104c23760>\n",
      "Marker: 84\t\t<ProToolsMarkers.Timecode.Timecode object at 0x104c237f0>\n",
      "Marker: 85\t\t<ProToolsMarkers.Timecode.Timecode object at 0x104c23910>\n",
      "Marker: 86\t\t<ProToolsMarkers.Timecode.Timecode object at 0x104c239a0>\n",
      "Marker: 87\t\t<ProToolsMarkers.Timecode.Timecode object at 0x104c23a30>\n",
      "Marker: 88\t\t<ProToolsMarkers.Timecode.Timecode object at 0x104c23ac0>\n",
      "Marker: 89\t\t<ProToolsMarkers.Timecode.Timecode object at 0x104c23b50>\n",
      "Marker: 90\t\t<ProToolsMarkers.Timecode.Timecode object at 0x104c23be0>\n",
      "Marker: 91\t\t<ProToolsMarkers.Timecode.Timecode object at 0x104c23c70>\n",
      "Marker: 92\t\t<ProToolsMarkers.Timecode.Timecode object at 0x104c23d00>\n",
      "Marker: 93\t\t<ProToolsMarkers.Timecode.Timecode object at 0x104c23d90>\n"
     ]
    },
    {
     "ename": "RecursionError",
     "evalue": "maximum recursion depth exceeded while calling a Python object",
     "output_type": "error",
     "traceback": [
      "\u001b[0;31m---------------------------------------------------------------------------\u001b[0m",
      "\u001b[0;31mRecursionError\u001b[0m                            Traceback (most recent call last)",
      "Cell \u001b[0;32mIn[2], line 13\u001b[0m\n\u001b[1;32m     10\u001b[0m srt_path \u001b[38;5;241m=\u001b[39m \u001b[38;5;124m\"\u001b[39m\u001b[38;5;124m/Volumes/VONGeneral/LDS/Archived Projects/Friend to Friend_2024/~Final Scripts Folder/SRT/\u001b[39m\u001b[38;5;124m\"\u001b[39m\u001b[38;5;241m+\u001b[39mLANGUAGES[lang]\u001b[38;5;241m+\u001b[39m\u001b[38;5;124m\"\u001b[39m\u001b[38;5;124m.srt\u001b[39m\u001b[38;5;124m\"\u001b[39m\n\u001b[1;32m     12\u001b[0m srt_maker \u001b[38;5;241m=\u001b[39m SRTMaker(translation_path, timecode_path, srt_path, lang)\n\u001b[0;32m---> 13\u001b[0m \u001b[43msrt_maker\u001b[49m\u001b[38;5;241;43m.\u001b[39;49m\u001b[43mcreate_captions\u001b[49m\u001b[43m(\u001b[49m\u001b[43msplit\u001b[49m\u001b[38;5;241;43m=\u001b[39;49m\u001b[38;5;28;43;01mTrue\u001b[39;49;00m\u001b[43m)\u001b[49m\n",
      "File \u001b[0;32m~/Documents/GitHub/Voices-Now-SRT-Generator/Scripts/CaptionMaker.py:36\u001b[0m, in \u001b[0;36mCaptionMaker.create_captions\u001b[0;34m(self, split)\u001b[0m\n\u001b[1;32m     33\u001b[0m         \u001b[38;5;28mself\u001b[39m\u001b[38;5;241m.\u001b[39mcaption_manager\u001b[38;5;241m.\u001b[39mcreate_caption(translation\u001b[38;5;241m.\u001b[39mstrip(), marker\u001b[38;5;241m.\u001b[39mtimecode, next_marker\u001b[38;5;241m.\u001b[39mtimecode, split\u001b[38;5;241m=\u001b[39msplit)\n\u001b[1;32m     35\u001b[0m \u001b[38;5;66;03m# Read through markers\u001b[39;00m\n\u001b[0;32m---> 36\u001b[0m \u001b[38;5;28;43mself\u001b[39;49m\u001b[38;5;241;43m.\u001b[39;49m\u001b[43mread_through_markers\u001b[49m\u001b[43m(\u001b[49m\u001b[43mupdate_file\u001b[49m\u001b[43m)\u001b[49m\n\u001b[1;32m     38\u001b[0m \u001b[38;5;66;03m# Write SRTs to file\u001b[39;00m\n\u001b[1;32m     39\u001b[0m \u001b[38;5;28mself\u001b[39m\u001b[38;5;241m.\u001b[39mcaption_manager\u001b[38;5;241m.\u001b[39mwrite_captions_to_file()\n",
      "File \u001b[0;32m~/Documents/GitHub/Voices-Now-SRT-Generator/Scripts/FileMaker.py:40\u001b[0m, in \u001b[0;36mFileMaker.read_through_markers\u001b[0;34m(self, update_file)\u001b[0m\n\u001b[1;32m     37\u001b[0m     \u001b[38;5;28mprint\u001b[39m(\u001b[38;5;124mf\u001b[39m\u001b[38;5;124m\"\u001b[39m\u001b[38;5;124mMarker: \u001b[39m\u001b[38;5;132;01m{\u001b[39;00mmarker\u001b[38;5;241m.\u001b[39mname\u001b[38;5;132;01m}\u001b[39;00m\u001b[38;5;130;01m\\t\u001b[39;00m\u001b[38;5;130;01m\\t\u001b[39;00m\u001b[38;5;132;01m{\u001b[39;00mmarker\u001b[38;5;241m.\u001b[39mtimecode\u001b[38;5;132;01m}\u001b[39;00m\u001b[38;5;124m\"\u001b[39m)\n\u001b[1;32m     39\u001b[0m     \u001b[38;5;66;03m# Call the function provided by the caller\u001b[39;00m\n\u001b[0;32m---> 40\u001b[0m     \u001b[43mupdate_file\u001b[49m\u001b[43m(\u001b[49m\u001b[38;5;28;43mself\u001b[39;49m\u001b[43m,\u001b[49m\u001b[43m \u001b[49m\u001b[43mmarker\u001b[49m\u001b[43m,\u001b[49m\u001b[43m \u001b[49m\u001b[43mnext_marker\u001b[49m\u001b[43m)\u001b[49m\n\u001b[1;32m     42\u001b[0m \u001b[38;5;28;01mreturn\u001b[39;00m\n",
      "File \u001b[0;32m~/Documents/GitHub/Voices-Now-SRT-Generator/Scripts/CaptionMaker.py:33\u001b[0m, in \u001b[0;36mCaptionMaker.create_captions.<locals>.update_file\u001b[0;34m(self, marker, next_marker)\u001b[0m\n\u001b[1;32m     31\u001b[0m \u001b[38;5;66;03m# Generate SRT text\u001b[39;00m\n\u001b[1;32m     32\u001b[0m \u001b[38;5;28;01mif\u001b[39;00m \u001b[38;5;129;01mnot\u001b[39;00m \u001b[38;5;28mself\u001b[39m\u001b[38;5;241m.\u001b[39mskip_caption(translation, marker\u001b[38;5;241m.\u001b[39mname):\n\u001b[0;32m---> 33\u001b[0m     \u001b[38;5;28;43mself\u001b[39;49m\u001b[38;5;241;43m.\u001b[39;49m\u001b[43mcaption_manager\u001b[49m\u001b[38;5;241;43m.\u001b[39;49m\u001b[43mcreate_caption\u001b[49m\u001b[43m(\u001b[49m\u001b[43mtranslation\u001b[49m\u001b[38;5;241;43m.\u001b[39;49m\u001b[43mstrip\u001b[49m\u001b[43m(\u001b[49m\u001b[43m)\u001b[49m\u001b[43m,\u001b[49m\u001b[43m \u001b[49m\u001b[43mmarker\u001b[49m\u001b[38;5;241;43m.\u001b[39;49m\u001b[43mtimecode\u001b[49m\u001b[43m,\u001b[49m\u001b[43m \u001b[49m\u001b[43mnext_marker\u001b[49m\u001b[38;5;241;43m.\u001b[39;49m\u001b[43mtimecode\u001b[49m\u001b[43m,\u001b[49m\u001b[43m \u001b[49m\u001b[43msplit\u001b[49m\u001b[38;5;241;43m=\u001b[39;49m\u001b[43msplit\u001b[49m\u001b[43m)\u001b[49m\n",
      "File \u001b[0;32m~/Documents/GitHub/Voices-Now-SRT-Generator/Scripts/SRTManager.py:81\u001b[0m, in \u001b[0;36mSRTManager.create_caption\u001b[0;34m(self, translation, in_time, out_time, split)\u001b[0m\n\u001b[1;32m     79\u001b[0m translation \u001b[38;5;241m=\u001b[39m translation\u001b[38;5;241m.\u001b[39mstrip()\n\u001b[1;32m     80\u001b[0m \u001b[38;5;28;01mif\u001b[39;00m split:\n\u001b[0;32m---> 81\u001b[0m     \u001b[38;5;28;43mself\u001b[39;49m\u001b[38;5;241;43m.\u001b[39;49m\u001b[43msplit_caption\u001b[49m\u001b[43m(\u001b[49m\u001b[43min_time\u001b[49m\u001b[43m,\u001b[49m\u001b[43m \u001b[49m\u001b[43mout_time\u001b[49m\u001b[43m,\u001b[49m\u001b[43m \u001b[49m\u001b[43mtranslation\u001b[49m\u001b[43m)\u001b[49m\n\u001b[1;32m     82\u001b[0m \u001b[38;5;28;01melse\u001b[39;00m:\n\u001b[1;32m     83\u001b[0m     \u001b[38;5;28mself\u001b[39m\u001b[38;5;241m.\u001b[39madd_srt(in_time, out_time, translation)\n",
      "File \u001b[0;32m~/Documents/GitHub/Voices-Now-SRT-Generator/Scripts/SRTManager.py:111\u001b[0m, in \u001b[0;36mSRTManager.split_caption\u001b[0;34m(self, in_time, out_time, text)\u001b[0m\n\u001b[1;32m    109\u001b[0m split_time \u001b[38;5;241m=\u001b[39m \u001b[38;5;28mself\u001b[39m\u001b[38;5;241m.\u001b[39mweighted_average(in_time, out_time, n, l)\n\u001b[1;32m    110\u001b[0m \u001b[38;5;28mself\u001b[39m\u001b[38;5;241m.\u001b[39msplit_caption(in_time, split_time, left)\n\u001b[0;32m--> 111\u001b[0m \u001b[38;5;28;43mself\u001b[39;49m\u001b[38;5;241;43m.\u001b[39;49m\u001b[43msplit_caption\u001b[49m\u001b[43m(\u001b[49m\u001b[43msplit_time\u001b[49m\u001b[43m,\u001b[49m\u001b[43m \u001b[49m\u001b[43mout_time\u001b[49m\u001b[43m,\u001b[49m\u001b[43m \u001b[49m\u001b[43mright\u001b[49m\u001b[43m)\u001b[49m\n",
      "File \u001b[0;32m~/Documents/GitHub/Voices-Now-SRT-Generator/Scripts/SRTManager.py:110\u001b[0m, in \u001b[0;36mSRTManager.split_caption\u001b[0;34m(self, in_time, out_time, text)\u001b[0m\n\u001b[1;32m    107\u001b[0m     \u001b[38;5;28;01mreturn\u001b[39;00m\n\u001b[1;32m    109\u001b[0m split_time \u001b[38;5;241m=\u001b[39m \u001b[38;5;28mself\u001b[39m\u001b[38;5;241m.\u001b[39mweighted_average(in_time, out_time, n, l)\n\u001b[0;32m--> 110\u001b[0m \u001b[38;5;28;43mself\u001b[39;49m\u001b[38;5;241;43m.\u001b[39;49m\u001b[43msplit_caption\u001b[49m\u001b[43m(\u001b[49m\u001b[43min_time\u001b[49m\u001b[43m,\u001b[49m\u001b[43m \u001b[49m\u001b[43msplit_time\u001b[49m\u001b[43m,\u001b[49m\u001b[43m \u001b[49m\u001b[43mleft\u001b[49m\u001b[43m)\u001b[49m\n\u001b[1;32m    111\u001b[0m \u001b[38;5;28mself\u001b[39m\u001b[38;5;241m.\u001b[39msplit_caption(split_time, out_time, right)\n",
      "File \u001b[0;32m~/Documents/GitHub/Voices-Now-SRT-Generator/Scripts/SRTManager.py:110\u001b[0m, in \u001b[0;36mSRTManager.split_caption\u001b[0;34m(self, in_time, out_time, text)\u001b[0m\n\u001b[1;32m    107\u001b[0m     \u001b[38;5;28;01mreturn\u001b[39;00m\n\u001b[1;32m    109\u001b[0m split_time \u001b[38;5;241m=\u001b[39m \u001b[38;5;28mself\u001b[39m\u001b[38;5;241m.\u001b[39mweighted_average(in_time, out_time, n, l)\n\u001b[0;32m--> 110\u001b[0m \u001b[38;5;28;43mself\u001b[39;49m\u001b[38;5;241;43m.\u001b[39;49m\u001b[43msplit_caption\u001b[49m\u001b[43m(\u001b[49m\u001b[43min_time\u001b[49m\u001b[43m,\u001b[49m\u001b[43m \u001b[49m\u001b[43msplit_time\u001b[49m\u001b[43m,\u001b[49m\u001b[43m \u001b[49m\u001b[43mleft\u001b[49m\u001b[43m)\u001b[49m\n\u001b[1;32m    111\u001b[0m \u001b[38;5;28mself\u001b[39m\u001b[38;5;241m.\u001b[39msplit_caption(split_time, out_time, right)\n",
      "    \u001b[0;31m[... skipping similar frames: SRTManager.split_caption at line 110 (2957 times)]\u001b[0m\n",
      "File \u001b[0;32m~/Documents/GitHub/Voices-Now-SRT-Generator/Scripts/SRTManager.py:110\u001b[0m, in \u001b[0;36mSRTManager.split_caption\u001b[0;34m(self, in_time, out_time, text)\u001b[0m\n\u001b[1;32m    107\u001b[0m     \u001b[38;5;28;01mreturn\u001b[39;00m\n\u001b[1;32m    109\u001b[0m split_time \u001b[38;5;241m=\u001b[39m \u001b[38;5;28mself\u001b[39m\u001b[38;5;241m.\u001b[39mweighted_average(in_time, out_time, n, l)\n\u001b[0;32m--> 110\u001b[0m \u001b[38;5;28;43mself\u001b[39;49m\u001b[38;5;241;43m.\u001b[39;49m\u001b[43msplit_caption\u001b[49m\u001b[43m(\u001b[49m\u001b[43min_time\u001b[49m\u001b[43m,\u001b[49m\u001b[43m \u001b[49m\u001b[43msplit_time\u001b[49m\u001b[43m,\u001b[49m\u001b[43m \u001b[49m\u001b[43mleft\u001b[49m\u001b[43m)\u001b[49m\n\u001b[1;32m    111\u001b[0m \u001b[38;5;28mself\u001b[39m\u001b[38;5;241m.\u001b[39msplit_caption(split_time, out_time, right)\n",
      "File \u001b[0;32m~/Documents/GitHub/Voices-Now-SRT-Generator/Scripts/SRTManager.py:101\u001b[0m, in \u001b[0;36mSRTManager.split_caption\u001b[0;34m(self, in_time, out_time, text)\u001b[0m\n\u001b[1;32m     98\u001b[0m     \u001b[38;5;28mself\u001b[39m\u001b[38;5;241m.\u001b[39madd_srt(in_time, out_time, text\u001b[38;5;241m.\u001b[39mstrip())\n\u001b[1;32m     99\u001b[0m     \u001b[38;5;28;01mreturn\u001b[39;00m\n\u001b[0;32m--> 101\u001b[0m left, right \u001b[38;5;241m=\u001b[39m \u001b[38;5;28;43mself\u001b[39;49m\u001b[38;5;241;43m.\u001b[39;49m\u001b[43msplit_text_by_language\u001b[49m\u001b[43m(\u001b[49m\u001b[43mtext\u001b[49m\u001b[43m)\u001b[49m\n\u001b[1;32m    102\u001b[0m l \u001b[38;5;241m=\u001b[39m \u001b[38;5;28mlen\u001b[39m(left)\n\u001b[1;32m    103\u001b[0m r \u001b[38;5;241m=\u001b[39m \u001b[38;5;28mlen\u001b[39m(right)\n",
      "File \u001b[0;32m~/Documents/GitHub/Voices-Now-SRT-Generator/Scripts/SRTManager.py:121\u001b[0m, in \u001b[0;36mSRTManager.split_text_by_language\u001b[0;34m(self, text)\u001b[0m\n\u001b[1;32m    120\u001b[0m \u001b[38;5;28;01mdef\u001b[39;00m \u001b[38;5;21msplit_text_by_language\u001b[39m(\u001b[38;5;28mself\u001b[39m, text: \u001b[38;5;28mstr\u001b[39m) \u001b[38;5;241m-\u001b[39m\u001b[38;5;241m>\u001b[39m \u001b[38;5;28mtuple\u001b[39m:\n\u001b[0;32m--> 121\u001b[0m     split_index \u001b[38;5;241m=\u001b[39m \u001b[38;5;28;43mself\u001b[39;49m\u001b[38;5;241;43m.\u001b[39;49m\u001b[43mfind_split_index\u001b[49m\u001b[43m(\u001b[49m\u001b[43mtext\u001b[49m\u001b[43m)\u001b[49m\n\u001b[1;32m    122\u001b[0m     left \u001b[38;5;241m=\u001b[39m text[:split_index]\n\u001b[1;32m    123\u001b[0m     right \u001b[38;5;241m=\u001b[39m text[split_index:]\n",
      "File \u001b[0;32m~/Documents/GitHub/Voices-Now-SRT-Generator/Scripts/SRTManager.py:198\u001b[0m, in \u001b[0;36mSRTManager.find_split_index\u001b[0;34m(self, text, prioritize)\u001b[0m\n\u001b[1;32m    196\u001b[0m \u001b[38;5;28;01mif\u001b[39;00m prioritize:\n\u001b[1;32m    197\u001b[0m     \u001b[38;5;28;01mfor\u001b[39;00m regex \u001b[38;5;129;01min\u001b[39;00m \u001b[38;5;28mself\u001b[39m\u001b[38;5;241m.\u001b[39mregex\u001b[38;5;241m.\u001b[39msplit(\u001b[38;5;124m\"\u001b[39m\u001b[38;5;124m|\u001b[39m\u001b[38;5;124m\"\u001b[39m):\n\u001b[0;32m--> 198\u001b[0m         \u001b[38;5;28;01mif\u001b[39;00m \u001b[38;5;28mbool\u001b[39m(\u001b[43mre\u001b[49m\u001b[38;5;241;43m.\u001b[39;49m\u001b[43msearch\u001b[49m\u001b[43m(\u001b[49m\u001b[43mregex\u001b[49m\u001b[43m,\u001b[49m\u001b[43m \u001b[49m\u001b[43mtext\u001b[49m\u001b[43m[\u001b[49m\u001b[43mWIDTH\u001b[49m\u001b[43m:\u001b[49m\u001b[38;5;241;43m-\u001b[39;49m\u001b[43mWIDTH\u001b[49m\u001b[43m]\u001b[49m\u001b[43m)\u001b[49m):\n\u001b[1;32m    199\u001b[0m             \u001b[38;5;28;01mreturn\u001b[39;00m search_text(regex, text[WIDTH:\u001b[38;5;241m-\u001b[39mWIDTH])\n\u001b[1;32m    201\u001b[0m \u001b[38;5;28;01melse\u001b[39;00m:\n",
      "File \u001b[0;32m/Library/Developer/CommandLineTools/Library/Frameworks/Python3.framework/Versions/3.9/lib/python3.9/re.py:201\u001b[0m, in \u001b[0;36msearch\u001b[0;34m(pattern, string, flags)\u001b[0m\n\u001b[1;32m    198\u001b[0m \u001b[38;5;28;01mdef\u001b[39;00m \u001b[38;5;21msearch\u001b[39m(pattern, string, flags\u001b[38;5;241m=\u001b[39m\u001b[38;5;241m0\u001b[39m):\n\u001b[1;32m    199\u001b[0m \u001b[38;5;250m    \u001b[39m\u001b[38;5;124;03m\"\"\"Scan through string looking for a match to the pattern, returning\u001b[39;00m\n\u001b[1;32m    200\u001b[0m \u001b[38;5;124;03m    a Match object, or None if no match was found.\"\"\"\u001b[39;00m\n\u001b[0;32m--> 201\u001b[0m     \u001b[38;5;28;01mreturn\u001b[39;00m \u001b[43m_compile\u001b[49m\u001b[43m(\u001b[49m\u001b[43mpattern\u001b[49m\u001b[43m,\u001b[49m\u001b[43m \u001b[49m\u001b[43mflags\u001b[49m\u001b[43m)\u001b[49m\u001b[38;5;241m.\u001b[39msearch(string)\n",
      "File \u001b[0;32m/Library/Developer/CommandLineTools/Library/Frameworks/Python3.framework/Versions/3.9/lib/python3.9/re.py:291\u001b[0m, in \u001b[0;36m_compile\u001b[0;34m(pattern, flags)\u001b[0m\n\u001b[1;32m    289\u001b[0m \u001b[38;5;28;01mdef\u001b[39;00m \u001b[38;5;21m_compile\u001b[39m(pattern, flags):\n\u001b[1;32m    290\u001b[0m     \u001b[38;5;66;03m# internal: compile pattern\u001b[39;00m\n\u001b[0;32m--> 291\u001b[0m     \u001b[38;5;28;01mif\u001b[39;00m \u001b[38;5;28;43misinstance\u001b[39;49m\u001b[43m(\u001b[49m\u001b[43mflags\u001b[49m\u001b[43m,\u001b[49m\u001b[43m \u001b[49m\u001b[43mRegexFlag\u001b[49m\u001b[43m)\u001b[49m:\n\u001b[1;32m    292\u001b[0m         flags \u001b[38;5;241m=\u001b[39m flags\u001b[38;5;241m.\u001b[39mvalue\n\u001b[1;32m    293\u001b[0m     \u001b[38;5;28;01mtry\u001b[39;00m:\n",
      "\u001b[0;31mRecursionError\u001b[0m: maximum recursion depth exceeded while calling a Python object"
     ]
    }
   ],
   "source": [
    "import sys\n",
    "sys.path.append(\"~/Documents/GitHub/Voices-Now-SRT-Generator/Scripts\")\n",
    "\n",
    "from Scripts.CaptionMaker import SRTMaker\n",
    "\n",
    "lang = \"JPN\"\n",
    "\n",
    "translation_path = \"/Volumes/VONGeneral/LDS/Archived Projects/Friend to Friend_2024/~Final Scripts Folder/no timecode/Friend to Friend Episode 6_\"+LANGUAGES[lang]+\".docx\"\n",
    "timecode_path = \"/Volumes/VONGeneral/LDS/Archived Projects/Friend to Friend_2024/Timecode/FriendToFriend_FEB2024_ProTools_Timecode.txt\"\n",
    "srt_path = \"/Volumes/VONGeneral/LDS/Archived Projects/Friend to Friend_2024/~Final Scripts Folder/SRT/\"+LANGUAGES[lang]+\".srt\"\n",
    "\n",
    "srt_maker = SRTMaker(translation_path, timecode_path, srt_path, lang)\n",
    "srt_maker.create_captions(split=True)"
   ]
  }
 ],
 "metadata": {
  "kernelspec": {
   "display_name": "Python 3",
   "language": "python",
   "name": "python3"
  },
  "language_info": {
   "codemirror_mode": {
    "name": "ipython",
    "version": 3
   },
   "file_extension": ".py",
   "mimetype": "text/x-python",
   "name": "python",
   "nbconvert_exporter": "python",
   "pygments_lexer": "ipython3",
   "version": "3.9.6"
  }
 },
 "nbformat": 4,
 "nbformat_minor": 2
}
